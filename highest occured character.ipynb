{
 "cells": [
  {
   "cell_type": "code",
   "execution_count": 1,
   "id": "dcf78e9f",
   "metadata": {},
   "outputs": [
    {
     "name": "stdout",
     "output_type": "stream",
     "text": [
      "abdefgbabfba\n",
      "b\n"
     ]
    }
   ],
   "source": [
    "string=input()\n",
    "max=0\n",
    "maxch=\"\"\n",
    "c=0\n",
    "for i in string:\n",
    "    c=string.count(i)\n",
    "    if c>max:\n",
    "        maxch=i\n",
    "        max=c\n",
    "print(maxch)"
   ]
  },
  {
   "cell_type": "code",
   "execution_count": null,
   "id": "8727ba45",
   "metadata": {},
   "outputs": [],
   "source": []
  }
 ],
 "metadata": {
  "kernelspec": {
   "display_name": "Python 3 (ipykernel)",
   "language": "python",
   "name": "python3"
  },
  "language_info": {
   "codemirror_mode": {
    "name": "ipython",
    "version": 3
   },
   "file_extension": ".py",
   "mimetype": "text/x-python",
   "name": "python",
   "nbconvert_exporter": "python",
   "pygments_lexer": "ipython3",
   "version": "3.9.7"
  }
 },
 "nbformat": 4,
 "nbformat_minor": 5
}
