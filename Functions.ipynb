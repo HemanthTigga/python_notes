{
 "cells": [
  {
   "cell_type": "code",
   "execution_count": 4,
   "id": "f8ed4734",
   "metadata": {},
   "outputs": [
    {
     "name": "stdout",
     "output_type": "stream",
     "text": [
      "0\n",
      "100\n",
      "20\n",
      "0 -17\n",
      "20 -6\n",
      "40 4\n",
      "60 15\n",
      "80 26\n",
      "100 37\n"
     ]
    }
   ],
   "source": [
    "S=int(input())\n",
    "E=int(input())\n",
    "W=int(input())\n",
    "def convert(t):\n",
    "    return int(((t-32)*5)/9)\n",
    "for i in range(S,E+1,W):\n",
    "    print(i,convert(i))"
   ]
  },
  {
   "cell_type": "code",
   "execution_count": 41,
   "id": "ab03802b",
   "metadata": {},
   "outputs": [
    {
     "name": "stdout",
     "output_type": "stream",
     "text": [
      "5\n",
      "true\n"
     ]
    }
   ],
   "source": [
    "N=int(input())\n",
    "a=0\n",
    "b=1\n",
    "c=0\n",
    "def check(c1):\n",
    "    global N\n",
    "    if c1==N:\n",
    "        return True\n",
    "    else:\n",
    "        return False\n",
    "if not check(a):\n",
    "    while c<=N:\n",
    "        c=a+b\n",
    "        f=check(c)\n",
    "        if f:\n",
    "            print(\"true\")\n",
    "            break\n",
    "        a=b\n",
    "        b=c\n",
    "    else:\n",
    "        print(\"false\")\n",
    "else:\n",
    "    print(\"true\")"
   ]
  },
  {
   "cell_type": "code",
   "execution_count": 43,
   "id": "9dbdf0f8",
   "metadata": {},
   "outputs": [
    {
     "name": "stdout",
     "output_type": "stream",
     "text": [
      "121\n",
      "true\n"
     ]
    }
   ],
   "source": [
    "N=int(input())\n",
    "def reverse(num):\n",
    "    rev=0\n",
    "    while num>0:\n",
    "        rev=(rev*10)+(num%10)\n",
    "        num=num//10\n",
    "    return rev\n",
    "r=reverse(N)\n",
    "if N==r:\n",
    "    print(\"true\")\n",
    "else:\n",
    "    print(\"false\")"
   ]
  },
  {
   "cell_type": "code",
   "execution_count": 47,
   "id": "8d2e5883",
   "metadata": {},
   "outputs": [
    {
     "name": "stdout",
     "output_type": "stream",
     "text": [
      "1634\n",
      "true\n"
     ]
    }
   ],
   "source": [
    "N=int(input())\n",
    "def countdigits(num):\n",
    "    p=0\n",
    "    while num>0:\n",
    "        p=p+1\n",
    "        num=num//10\n",
    "    return p\n",
    "def sum(num1,nd):\n",
    "    s=0\n",
    "    while num1>0:\n",
    "        d=num1%10\n",
    "        s=s+(d**nd)\n",
    "        num1=num1//10\n",
    "    return s\n",
    "n=countdigits(N)\n",
    "t=sum(N,n)\n",
    "if N==t:\n",
    "    print(\"true\")\n",
    "else:\n",
    "    print(\"false\")\n",
    "\n"
   ]
  },
  {
   "cell_type": "code",
   "execution_count": null,
   "id": "453d589b",
   "metadata": {},
   "outputs": [],
   "source": [
    "## Read input as specified in the question.\n",
    "## Print output as specified in the question.\n",
    "N=int(input())\n",
    "p=N\n",
    "for i in range(0,N,1):\n",
    "    for j in range(0,N,1):\n",
    "        if (i+j)==N-1:\n",
    "            print(\"*\",end='')\n",
    "            p=p-1\n",
    "        else:\n",
    "            print(p,end='')\n",
    "            p=p-1\n",
    "    print()\n",
    "    p=N"
   ]
  }
 ],
 "metadata": {
  "kernelspec": {
   "display_name": "Python 3 (ipykernel)",
   "language": "python",
   "name": "python3"
  },
  "language_info": {
   "codemirror_mode": {
    "name": "ipython",
    "version": 3
   },
   "file_extension": ".py",
   "mimetype": "text/x-python",
   "name": "python",
   "nbconvert_exporter": "python",
   "pygments_lexer": "ipython3",
   "version": "3.9.7"
  }
 },
 "nbformat": 4,
 "nbformat_minor": 5
}
