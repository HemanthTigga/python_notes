{
 "cells": [
  {
   "cell_type": "code",
   "execution_count": 13,
   "id": "6d70e5c0",
   "metadata": {},
   "outputs": [
    {
     "name": "stdout",
     "output_type": "stream",
     "text": [
      "4\n",
      "7\n",
      "5\n",
      "5\n",
      "1\n",
      "18\n"
     ]
    }
   ],
   "source": [
    "N=int(input())\n",
    "a=[]\n",
    "for i in range(N):\n",
    "    a.append(int(input()))\n",
    "print(sum(a))"
   ]
  },
  {
   "cell_type": "code",
   "execution_count": 37,
   "id": "c463eb70",
   "metadata": {},
   "outputs": [
    {
     "name": "stdout",
     "output_type": "stream",
     "text": [
      "4\n",
      "5 5 6 555 4   55 \n",
      "630\n"
     ]
    }
   ],
   "source": [
    "N=int(input())\n",
    "a=[int(x) for x in input().split()]\n",
    "print(sum(a))"
   ]
  },
  {
   "cell_type": "code",
   "execution_count": 40,
   "id": "ba258e45",
   "metadata": {},
   "outputs": [
    {
     "name": "stdout",
     "output_type": "stream",
     "text": [
      "4\n",
      "2\n",
      "1 4 56 6 8\n",
      "-1\n"
     ]
    }
   ],
   "source": [
    "N=int(input())\n",
    "ele=int(input())\n",
    "a=[int(i) for i in input().split()]\n",
    "for i in range(len(a)):\n",
    "    if a[i]==ele:\n",
    "        print(i)\n",
    "        break\n",
    "else:\n",
    "    print(-1)"
   ]
  },
  {
   "cell_type": "code",
   "execution_count": 46,
   "id": "e29a3129",
   "metadata": {},
   "outputs": [
    {
     "name": "stdout",
     "output_type": "stream",
     "text": [
      "4 5 87 6 2 3 7  1  4 2 1\n",
      "1\n",
      "7\n"
     ]
    }
   ],
   "source": [
    "def linear(li,ele):\n",
    "    for i in range(len(li)):\n",
    "        if li[i]==ele:\n",
    "            return i\n",
    "    else:\n",
    "        return -1\n",
    "\n",
    "li=[int(i) for i in input().split()]\n",
    "element=int(input())\n",
    "print(linear(li,element))"
   ]
  },
  {
   "cell_type": "code",
   "execution_count": 49,
   "id": "8735a255",
   "metadata": {},
   "outputs": [],
   "source": [
    "li=[1,2,3,4]"
   ]
  },
  {
   "cell_type": "code",
   "execution_count": 50,
   "id": "23855230",
   "metadata": {},
   "outputs": [],
   "source": [
    "li2=li"
   ]
  },
  {
   "cell_type": "code",
   "execution_count": 51,
   "id": "785d4b0a",
   "metadata": {},
   "outputs": [
    {
     "data": {
      "text/plain": [
       "[1, 2, 3, 4]"
      ]
     },
     "execution_count": 51,
     "metadata": {},
     "output_type": "execute_result"
    }
   ],
   "source": [
    "li2"
   ]
  },
  {
   "cell_type": "code",
   "execution_count": 52,
   "id": "28163743",
   "metadata": {},
   "outputs": [
    {
     "data": {
      "text/plain": [
       "[1, 2, 3, 4]"
      ]
     },
     "execution_count": 52,
     "metadata": {},
     "output_type": "execute_result"
    }
   ],
   "source": [
    "li"
   ]
  },
  {
   "cell_type": "code",
   "execution_count": 64,
   "id": "3eb31eae",
   "metadata": {},
   "outputs": [],
   "source": [
    "li2=[1,2,3,4]"
   ]
  },
  {
   "cell_type": "code",
   "execution_count": 65,
   "id": "2b50c6d2",
   "metadata": {},
   "outputs": [
    {
     "data": {
      "text/plain": [
       "[1, 2, 3, 4]"
      ]
     },
     "execution_count": 65,
     "metadata": {},
     "output_type": "execute_result"
    }
   ],
   "source": [
    "li2"
   ]
  },
  {
   "cell_type": "code",
   "execution_count": 66,
   "id": "d8e0a4d2",
   "metadata": {},
   "outputs": [
    {
     "data": {
      "text/plain": [
       "[1, 2, 4, 4]"
      ]
     },
     "execution_count": 66,
     "metadata": {},
     "output_type": "execute_result"
    }
   ],
   "source": [
    "li"
   ]
  },
  {
   "cell_type": "code",
   "execution_count": 60,
   "id": "aacc69ae",
   "metadata": {},
   "outputs": [
    {
     "data": {
      "text/plain": [
       "2"
      ]
     },
     "execution_count": 60,
     "metadata": {},
     "output_type": "execute_result"
    }
   ],
   "source": [
    "a=2\n",
    "b=a\n",
    "b=3\n",
    "a"
   ]
  },
  {
   "cell_type": "code",
   "execution_count": 11,
   "id": "f76b093f",
   "metadata": {},
   "outputs": [
    {
     "data": {
      "text/plain": [
       "2"
      ]
     },
     "execution_count": 11,
     "metadata": {},
     "output_type": "execute_result"
    }
   ],
   "source": [
    "\n",
    "len(li)//2"
   ]
  },
  {
   "cell_type": "code",
   "execution_count": 23,
   "id": "16c355de",
   "metadata": {},
   "outputs": [
    {
     "name": "stdout",
     "output_type": "stream",
     "text": [
      "1 2 45 6\n"
     ]
    },
    {
     "data": {
      "text/plain": [
       "[6, 45, 2, 1]"
      ]
     },
     "execution_count": 23,
     "metadata": {},
     "output_type": "execute_result"
    }
   ],
   "source": [
    "li=[int(x) for x in input().split()]\n",
    "N=len(li)\n",
    "for i in range(N//2):\n",
    "    t=li[i]\n",
    "    li[i]=li[-i-1]\n",
    "    li[-i-1]=t\n",
    "    t=0\n",
    "li"
   ]
  },
  {
   "cell_type": "code",
   "execution_count": 33,
   "id": "7a9eae1c",
   "metadata": {},
   "outputs": [
    {
     "name": "stdout",
     "output_type": "stream",
     "text": [
      "1 5 45 6 4 6 4 \n",
      "[4, 6, 4, 6, 45, 5, 1]\n"
     ]
    },
    {
     "data": {
      "text/plain": [
       "[6, 4, 6]"
      ]
     },
     "execution_count": 33,
     "metadata": {},
     "output_type": "execute_result"
    }
   ],
   "source": [
    "li=[int(x) for x in input().split()]\n",
    "def reverse(li):\n",
    "    N=len(li)\n",
    "    for i in range(N//2):\n",
    "        li[i],li[-i-1]=li[-i-1],li[i]\n",
    "    return li\n",
    "li=reverse(li)\n",
    "print(li)\n",
    "li[1:4:1]        #slicing"
   ]
  },
  {
   "cell_type": "code",
   "execution_count": 34,
   "id": "f0ce2e30",
   "metadata": {},
   "outputs": [
    {
     "name": "stdout",
     "output_type": "stream",
     "text": [
      "1  4 9 6 52\n"
     ]
    },
    {
     "data": {
      "text/plain": [
       "[52, 6, 9, 4, 1]"
      ]
     },
     "execution_count": 34,
     "metadata": {},
     "output_type": "execute_result"
    }
   ],
   "source": [
    "#simplest way\n",
    "li=[int(x) for x in input().split()]\n",
    "li=li[::-1]\n",
    "li"
   ]
  },
  {
   "cell_type": "code",
   "execution_count": 56,
   "id": "483e4a46",
   "metadata": {},
   "outputs": [
    {
     "name": "stdout",
     "output_type": "stream",
     "text": [
      "1 22 3 4\n"
     ]
    },
    {
     "data": {
      "text/plain": [
       "[22, 1, 4, 3]"
      ]
     },
     "execution_count": 56,
     "metadata": {},
     "output_type": "execute_result"
    }
   ],
   "source": [
    "#Swap alternate elements\n",
    "li=[int(x) for x in input().split()]\n",
    "def reverse(li):\n",
    "    N=len(li)\n",
    "    for i in range(0,N-1,2):\n",
    "        li[i],li[i+1]=li[i+1],li[i]\n",
    "    return li\n",
    "li=reverse(li)\n",
    "li"
   ]
  },
  {
   "cell_type": "code",
   "execution_count": 80,
   "id": "7be5552c",
   "metadata": {},
   "outputs": [
    {
     "data": {
      "text/plain": [
       "8"
      ]
     },
     "execution_count": 80,
     "metadata": {},
     "output_type": "execute_result"
    }
   ],
   "source": [
    "def findUnique(arr, n) :\n",
    "    #Your code goes here:\n",
    "    for i in range(0,n+1):\n",
    "        n1=arr[i]\n",
    "        c=0\n",
    "        for j in range(0,n):\n",
    "            if n1==arr[j]:\n",
    "                c=c+1\n",
    "        if c==1:\n",
    "            return n1\n",
    "c=0\n",
    "arr=[5,3,1,5,1,3,4,7,4,7,8]\n",
    "n=len(arr)\n",
    "findUnique(arr,n)"
   ]
  },
  {
   "cell_type": "code",
   "execution_count": 5,
   "id": "f55e19e2",
   "metadata": {},
   "outputs": [
    {
     "data": {
      "text/plain": [
       "7"
      ]
     },
     "execution_count": 5,
     "metadata": {},
     "output_type": "execute_result"
    }
   ],
   "source": [
    "def duplicate(arr,n):\n",
    "    for i in range(n):\n",
    "        c=0\n",
    "        for j in range(n):\n",
    "            if arr[i]==arr[j]:\n",
    "                c=c+1\n",
    "        if c>1:\n",
    "            return arr[i]\n",
    "c=0\n",
    "arr=[5,3,1,7,4,7,8]\n",
    "n=len(arr)\n",
    "duplicate(arr,n)"
   ]
  },
  {
   "cell_type": "code",
   "execution_count": 94,
   "id": "182df659",
   "metadata": {},
   "outputs": [
    {
     "name": "stdout",
     "output_type": "stream",
     "text": [
      "arr1= [5, 3, 1, 7, 4, 7, 8, 8, 8, 8, 7]\n",
      "arr2= [4, 6, 8, 9, 4, 3, 3, 2, 4, 4, 5]\n",
      "arr3= [5, 3, 3, 4, 4, 4, 4, 8, 8, 8, 8]\n",
      "arr1= 3\n",
      "arr2= 3\n",
      "c= 2\n",
      "c= 2\n",
      "c= 2\n",
      "c= 2\n",
      "c= 2\n",
      "c= 2\n",
      "c= 2\n",
      "c= 2\n",
      "arr1= 4\n",
      "arr2= 4\n",
      "c= 2\n",
      "c= 2\n",
      "c= 2\n",
      "c= 2\n",
      "c= 2\n",
      "c= 2\n",
      "arr1= 4\n",
      "arr2= 4\n",
      "c= 3\n",
      "c= 3\n",
      "c= 3\n",
      "c= 3\n",
      "arr1= 8\n",
      "arr2= 8\n",
      "c= 2\n",
      "c= 2\n",
      "arr1= 8\n",
      "arr2= 8\n",
      "arr1= 8\n",
      "arr2= 8\n",
      "n2= 4\n",
      "[5, 3, 4, 4, 8, 8, 8, 8, 8, 8, 8]\n",
      "[5, 3, 4, 4, 8]\n"
     ]
    }
   ],
   "source": [
    "def intersection(arr1,arr2,n,m):\n",
    "    arr3=[]\n",
    "    for i in range(n):\n",
    "        for j in range(m):\n",
    "            if arr1[i]==arr2[j]:\n",
    "                arr3.append(arr2[j])\n",
    "    n1=len(arr3)\n",
    "    print(\"arr1=\",arr1)\n",
    "    print(\"arr2=\",arr2)\n",
    "    print(\"arr3=\",arr3)\n",
    "    c=-1\n",
    "    for i in range(n1-1):\n",
    "        c=1\n",
    "        for j in range(i+1,n1):\n",
    "            if arr3[i]==arr3[j]:\n",
    "                print(\"arr1=\",arr3[i])\n",
    "                print(\"arr2=\",arr3[j])\n",
    "                c=c+1\n",
    "                for k in range(j,n1-1):\n",
    "                    print(\"c=\",c)\n",
    "                    arr3[k]=arr3[k+1]\n",
    "                n1=n1-1\n",
    "    n2=n1-c\n",
    "    #print(\"n1=\",n1)\n",
    "    #print(\"c1=\",c)\n",
    "    print(\"n2=\",n2)\n",
    "    print(arr3)\n",
    "    return arr3[0:n2+1]\n",
    "arr1=[5,3,1,7,4,7,8,8,8,8,7]\n",
    "n=len(arr1)\n",
    "arr2=[4,6,8,9,4,3,3,2,4,4,5]\n",
    "m=len(arr2)\n",
    "arr3=intersection(arr1,arr2,n,m)\n",
    "print(arr3)\n"
   ]
  },
  {
   "cell_type": "code",
   "execution_count": 85,
   "id": "b38ebd37",
   "metadata": {},
   "outputs": [
    {
     "name": "stdout",
     "output_type": "stream",
     "text": [
      "[2, 2, 9, 9, 9, 7]\n",
      "5\n",
      "6\n",
      "-1\n",
      "[2, 9, 9, 9, 9, 7]\n",
      "[]\n"
     ]
    }
   ],
   "source": [
    "def intersection(arr1,arr2,n,m):\n",
    "    arr3=[]\n",
    "    for i in range(n):\n",
    "        for j in range(m):\n",
    "            if arr1[i]==arr2[j]:\n",
    "                arr3.append(arr2[j])\n",
    "    n1=len(arr3)-1\n",
    "    c=-1\n",
    "    print(arr3)\n",
    "    for i in range(n1-1):\n",
    "        for j in range(i+1,n1):\n",
    "            if arr3[i]==arr3[j]:\n",
    "                c=c+1\n",
    "                for k in range(j,n1-1):\n",
    "                    arr3[k]=arr3[k+1]\n",
    "    n2=n1-c\n",
    "    print(n1)\n",
    "    print(c)\n",
    "    print(n2)\n",
    "    print(arr3)\n",
    "    return arr3[0:n2+1]\n",
    "arr1=[2,456,2,5,9,9,9,7]\n",
    "n=len(arr1)\n",
    "arr2=[2,4,56,6,9,7]\n",
    "m=len(arr2)\n",
    "arr3=intersection(arr1,arr2,n,m)\n",
    "print(arr3)\n"
   ]
  },
  {
   "cell_type": "code",
   "execution_count": 104,
   "id": "07d14e29",
   "metadata": {},
   "outputs": [
    {
     "name": "stdout",
     "output_type": "stream",
     "text": [
      "[2, 2, 2, 2, 2, 2, 2, 2, 2, 2, 2, 2]\n",
      "[2]\n"
     ]
    }
   ],
   "source": [
    "def intersection(arr1,arr2,n,m):\n",
    "    arr3=[]\n",
    "    for i in range(n):\n",
    "        for j in range(m):\n",
    "            if arr1[i]==arr2[j]:\n",
    "                arr3.append(arr2[j])\n",
    "    print(arr3)\n",
    "    n1=len(arr3)\n",
    "    res=[]\n",
    "    for i in arr3:\n",
    "        if i not in res:\n",
    "            res.append(i)\n",
    "    return res\n",
    "arr1=[2,1,2,2]\n",
    "n=len(arr1)\n",
    "arr2=[1]\n",
    "m=len(arr2)\n",
    "arr3=intersection(arr1,arr2,n,m)\n",
    "print(arr3)"
   ]
  },
  {
   "cell_type": "code",
   "execution_count": 125,
   "id": "3ad70a6a",
   "metadata": {},
   "outputs": [
    {
     "name": "stdout",
     "output_type": "stream",
     "text": [
      "arr1= [1, 2, 1, 2, 1, 4, 5, 4]\n",
      "arr2= [1, 2, 4, 5, 1]\n",
      "1 2 1 2 1 4 5 4 None\n"
     ]
    }
   ],
   "source": [
    "def duplicateremove(arr):\n",
    "    res=[]\n",
    "    for i in arr:\n",
    "        if i not in res:\n",
    "            res.append(i)\n",
    "    return res\n",
    "def countelements(arrc1,arrc2):\n",
    "    dup=[]\n",
    "    c=0\n",
    "    for i in arrc1:\n",
    "        for j in arrc2:\n",
    "            if i==j:\n",
    "                c=c+1\n",
    "        dup.append(c)\n",
    "        c=0\n",
    "    return dup\n",
    "def intersections(arr1, n, arr2, m):\n",
    "    #Your code goes here\n",
    "    arr3=[]\n",
    "    for i in range(n):\n",
    "        for j in range(m):\n",
    "            if arr1[i]==arr2[j]:\n",
    "                arr3.append(arr2[j])\n",
    "                print(arr1[i],end=' ')\n",
    "                break\n",
    "#arr1=[int(x) for x in input().split()]\n",
    "#arr2=[int(x) for x in input().split()]\n",
    "arr1=[1,2,1,2,1,4,5,4]\n",
    "arr2=[1,2,4,5,1]\n",
    "arr3=duplicateremove(arr1)\n",
    "arr4=duplicateremove(arr2)\n",
    "dup1=countelements(arr3,arr1)\n",
    "dup2=countelements(arr4,arr2)\n",
    "print(\"arr1=\",arr1)\n",
    "print(\"arr2=\",arr2)\n",
    "#print(dup1)\n",
    "#print(dup2)\n",
    "print(intersections(arr1,len(arr1),arr2,len(arr2)))"
   ]
  },
  {
   "cell_type": "code",
   "execution_count": 127,
   "id": "9df85017",
   "metadata": {},
   "outputs": [
    {
     "name": "stdout",
     "output_type": "stream",
     "text": [
      "1 2 1 4 5 "
     ]
    }
   ],
   "source": [
    "#correct Code\n",
    "def intersections(arr1, n, arr2, m) :\n",
    "    for i in range(n):\n",
    "        for j in range(m):\n",
    "            if arr1[i]==arr2[j]:\n",
    "                print(arr1[i],end=' ')\n",
    "                arr1[i]=None\n",
    "                arr2[j]=None\n",
    "                break\n",
    "\n",
    "arr1=[1,2,1,2,1,4,5,4]\n",
    "arr2=[1,2,4,5,1]\n",
    "intersections(arr1,len(arr1),arr2,len(arr2))"
   ]
  },
  {
   "cell_type": "code",
   "execution_count": 9,
   "id": "e43db633",
   "metadata": {},
   "outputs": [
    {
     "name": "stdout",
     "output_type": "stream",
     "text": [
      "1 24 5 6 4 21 \n",
      "1\n",
      "0\n"
     ]
    }
   ],
   "source": [
    "def pairsum(arr,x):\n",
    "    c=0\n",
    "    for i in range(len(arr)):\n",
    "        for j in range(i+1,len(arr)):\n",
    "            if (arr[i]+arr[j])==x:\n",
    "                c=c+1\n",
    "    return c\n",
    "\n",
    "arr=[int(a) for a in input().split()]\n",
    "x=int(input())\n",
    "c=pairsum(arr,x)\n",
    "print(c)"
   ]
  },
  {
   "cell_type": "code",
   "execution_count": 21,
   "id": "e2e99349",
   "metadata": {},
   "outputs": [
    {
     "name": "stdout",
     "output_type": "stream",
     "text": [
      "1 2 3 4 5 6 7\n",
      "12\n",
      "5\n"
     ]
    }
   ],
   "source": [
    "def tripletsum(arr,x):\n",
    "    c=0\n",
    "    for i in range(len(arr)):\n",
    "        for j in range(i+1,len(arr)):\n",
    "            for k in range(j+1,len(arr)):\n",
    "                if (arr[i]+arr[j]+arr[k])==x:\n",
    "                    c=c+1\n",
    "    return c\n",
    "\n",
    "arr=[int(a) for a in input().split()]\n",
    "x=int(input())\n",
    "c=pairsum(arr,x)\n",
    "print(c)"
   ]
  },
  {
   "cell_type": "code",
   "execution_count": null,
   "id": "f4a576f7",
   "metadata": {},
   "outputs": [],
   "source": []
  }
 ],
 "metadata": {
  "kernelspec": {
   "display_name": "Python 3 (ipykernel)",
   "language": "python",
   "name": "python3"
  },
  "language_info": {
   "codemirror_mode": {
    "name": "ipython",
    "version": 3
   },
   "file_extension": ".py",
   "mimetype": "text/x-python",
   "name": "python",
   "nbconvert_exporter": "python",
   "pygments_lexer": "ipython3",
   "version": "3.9.7"
  }
 },
 "nbformat": 4,
 "nbformat_minor": 5
}
