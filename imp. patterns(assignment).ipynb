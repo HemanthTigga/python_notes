{
 "cells": [
  {
   "cell_type": "code",
   "execution_count": 5,
   "id": "2fdc33e2",
   "metadata": {},
   "outputs": [
    {
     "name": "stdout",
     "output_type": "stream",
     "text": [
      "11\n",
      "     *\n",
      "    ***\n",
      "   *****\n",
      "  *******\n",
      " *********\n",
      "***********\n",
      " *********\n",
      "  *******\n",
      "   *****\n",
      "    ***\n",
      "     *\n",
      "      \n"
     ]
    }
   ],
   "source": [
    "N1=int(input())\n",
    "N=N1-(N1//2)\n",
    "i=1\n",
    "s=1\n",
    "j=1\n",
    "jj1=1\n",
    "p1=1\n",
    "while i<=N:\n",
    "    j1=i-1\n",
    "    while j<=N-i:\n",
    "        print(\" \",end='')\n",
    "        j=j+1\n",
    "    p=1\n",
    "    while p<=i:\n",
    "        print(\"*\",end='')\n",
    "        p=p+1\n",
    "        s=s+1\n",
    "    while p1<i:\n",
    "        print(\"*\",end='')\n",
    "        j1=j1-1\n",
    "        p1=p1+1\n",
    "    t1=p1+p\n",
    "    p1=1\n",
    "    print()\n",
    "    j=1\n",
    "    i=i+1\n",
    "    s=1\n",
    "i=i-2\n",
    "j=1\n",
    "while i>=0:\n",
    "    while j<=N-i:\n",
    "        print(\" \",end='')\n",
    "        j=j+1\n",
    "    p=1\n",
    "    while p<=i:\n",
    "        print(\"*\",end='')\n",
    "        p=p+1\n",
    "    j=jj1\n",
    "    p=1\n",
    "    while j<i:\n",
    "        print(\"*\",end='')\n",
    "        j=j+1\n",
    "    print()\n",
    "    j=1\n",
    "    i=i-1"
   ]
  },
  {
   "cell_type": "code",
   "execution_count": null,
   "id": "ba765a8e",
   "metadata": {},
   "outputs": [],
   "source": []
  },
  {
   "cell_type": "code",
   "execution_count": 7,
   "id": "18895f2c",
   "metadata": {},
   "outputs": [
    {
     "name": "stdout",
     "output_type": "stream",
     "text": [
      "9\n",
      "1                1\n",
      "12              21\n",
      "123            321\n",
      "1234          4321\n",
      "12345        54321\n",
      "123456      654321\n",
      "1234567    7654321\n",
      "12345678  87654321\n",
      "123456789987654321\n"
     ]
    }
   ],
   "source": [
    "N=int(input())\n",
    "p=i1=1\n",
    "i=1\n",
    "j=j1=1\n",
    "k=(N*2)-2\n",
    "while i<=N:\n",
    "    while j<=i:\n",
    "        print(p,end='')\n",
    "        j=j+1\n",
    "        p=p+1\n",
    "    p=p-1\n",
    "    while i1<=k:\n",
    "        print(' ',end='')\n",
    "        i1=i1+1\n",
    "    while j1<=i:\n",
    "        print(p,end='')\n",
    "        j1=j1+1\n",
    "        p=p-1\n",
    "    j=1\n",
    "    i=i+1\n",
    "    print()\n",
    "    j1=1\n",
    "    p=1\n",
    "    i1=1\n",
    "    k=k-2"
   ]
  },
  {
   "cell_type": "code",
   "execution_count": 42,
   "id": "48f43b8c",
   "metadata": {},
   "outputs": [
    {
     "name": "stdout",
     "output_type": "stream",
     "text": [
      "9\n",
      "*00000000*00000000*\n",
      "0*0000000*0000000*0\n",
      "00*000000*000000*00\n",
      "000*00000*00000*000\n",
      "0000*0000*0000*0000\n",
      "00000*000*000*00000\n",
      "000000*00*00*000000\n",
      "0000000*0*0*0000000\n",
      "00000000***00000000\n"
     ]
    }
   ],
   "source": [
    "N=int(input())\n",
    "k=(N*2)+1\n",
    "a=0\n",
    "b=N\n",
    "c=k-1\n",
    "i=1\n",
    "j=0\n",
    "while i<=N:\n",
    "    while j<k:\n",
    "        if j==a or j==b or j==c:\n",
    "            print(\"*\",end='')\n",
    "        #elif j==b:\n",
    "        #    print(\"*\",end='')\n",
    "        else:\n",
    "            print(0,end='')\n",
    "        j=j+1\n",
    "    a=a+1\n",
    "    c=c-1\n",
    "    j=0\n",
    "    i=i+1\n",
    "    print()"
   ]
  },
  {
   "cell_type": "code",
   "execution_count": 8,
   "id": "107716ee",
   "metadata": {},
   "outputs": [
    {
     "name": "stdout",
     "output_type": "stream",
     "text": [
      "9\n",
      "        1\n",
      "       212\n",
      "      32123\n",
      "     4321234\n",
      "    543212345\n",
      "   65432123456\n",
      "  7654321234567\n",
      " 876543212345678\n",
      "98765432123456789\n"
     ]
    }
   ],
   "source": [
    "N=int(input())\n",
    "i=1\n",
    "s=s1=1\n",
    "j=1\n",
    "p1=1\n",
    "j1=2\n",
    "while i<=N:\n",
    "    while j<=N-i:\n",
    "        print(\" \",end='')\n",
    "        j=j+1\n",
    "    p=1\n",
    "    while p<=i:\n",
    "        print(s1,end='')\n",
    "        p=p+1\n",
    "        s=s+1\n",
    "        s1=s1-1\n",
    "    j1=2\n",
    "    while p1<i:\n",
    "        print(j1,end='')\n",
    "        j1=j1+1\n",
    "        p1=p1+1\n",
    "    p1=1\n",
    "    print()\n",
    "    j=1\n",
    "    s=i+1\n",
    "    s1=s\n",
    "    i=i+1"
   ]
  },
  {
   "cell_type": "code",
   "execution_count": 2,
   "id": "91e0c37d",
   "metadata": {},
   "outputs": [
    {
     "name": "stdout",
     "output_type": "stream",
     "text": [
      "15\n",
      "* \n",
      " * * \n",
      "  * * * \n",
      "   * * * * \n",
      "    * * * * * \n",
      "     * * * * * * \n",
      "      * * * * * * * \n",
      "       * * * * * * * * \n",
      "      * * * * * * * \n",
      "     * * * * * * \n",
      "    * * * * * \n",
      "   * * * * \n",
      "  * * * \n",
      " * * \n",
      "* \n"
     ]
    }
   ],
   "source": [
    "N=int(input())\n",
    "i=j=1\n",
    "k=j1=k1=0\n",
    "while i<=N:\n",
    "    if k1<=(N//2):\n",
    "        while j1<k:\n",
    "            print(\" \",end='')\n",
    "            j1=j1+1\n",
    "        j1=0\n",
    "        k=k+1\n",
    "        while j<=k:\n",
    "            print(\"* \",end='')\n",
    "            j=j+1\n",
    "        j=1\n",
    "        k1=k\n",
    "        #print(\"k=\",k,end='')\n",
    "    else:\n",
    "        #print(\"k=\",k,end='')\n",
    "        k=k-2\n",
    "        #print(\"k=\",k,end='')\n",
    "        while j1<k:\n",
    "            print(\" \",end='')\n",
    "            j1=j1+1\n",
    "        j1=0\n",
    "        while j<=k+1:\n",
    "            print(\"* \",end='')\n",
    "            j=j+1\n",
    "        j=1\n",
    "        k=k+1\n",
    "    i=i+1\n",
    "    print()"
   ]
  },
  {
   "cell_type": "code",
   "execution_count": 27,
   "id": "561a2582",
   "metadata": {},
   "outputs": [
    {
     "name": "stdout",
     "output_type": "stream",
     "text": [
      "6\n",
      "123456\n",
      " 23456\n",
      "  3456\n",
      "   456\n",
      "    56\n",
      "     6\n",
      "    56\n",
      "   456\n",
      "  3456\n",
      " 23456\n",
      "123456\n"
     ]
    }
   ],
   "source": [
    "N=int(input())\n",
    "i=0\n",
    "k=j=1\n",
    "while i<N:\n",
    "    while j<=i:\n",
    "        print(\" \",end='')\n",
    "        j=j+1\n",
    "    j=k\n",
    "    while j<=N:\n",
    "        print(j,end='')\n",
    "        j=j+1\n",
    "    j=1\n",
    "    i=i+1\n",
    "    k=k+1\n",
    "    print()\n",
    "i=1\n",
    "j=1\n",
    "k=N-1\n",
    "p=N-2\n",
    "while i<N:\n",
    "    while j<=p:\n",
    "        print(\" \",end='')\n",
    "        j=j+1\n",
    "    j=k\n",
    "    while j<=N:\n",
    "        print(j,end='')\n",
    "        j=j+1\n",
    "    j=1\n",
    "    i=i+1\n",
    "    p=p-1\n",
    "    k=k-1\n",
    "    print()"
   ]
  },
  {
   "cell_type": "code",
   "execution_count": 16,
   "id": "02513a74",
   "metadata": {},
   "outputs": [
    {
     "name": "stdout",
     "output_type": "stream",
     "text": [
      "4\n",
      "p= 7\n",
      "4444444\n",
      "4     4\n",
      "4     4\n",
      "4     4\n",
      "4     4\n",
      "4     4\n",
      "4444444\n",
      "kk= 1\n",
      "33333\n",
      "3   3\n",
      "3   3\n",
      "3   3\n",
      "33333\n",
      "kk= 2\n",
      "222\n",
      "2 2\n",
      "222\n",
      "kk= 3\n",
      "1\n",
      "kk= 4\n"
     ]
    }
   ],
   "source": [
    "N=int(input())\n",
    "p=N+(N-1)\n",
    "print(\"p=\",p)\n",
    "i=j=k=0\n",
    "k1=1\n",
    "k2=0\n",
    "k3=N\n",
    "kk=1\n",
    "while True:\n",
    "    while i<p-k2:\n",
    "        while j<p-k2:\n",
    "            if ((i==k) or (i==(p-k2)-k1)) or ((j==k) or (j==(p-k2)-k1)):\n",
    "                #print(\"i=\",i,end='')\n",
    "                print(k3,end='')\n",
    "                #print(\"j=\",j,end='')\n",
    "            else:\n",
    "                print(\" \",end='')\n",
    "\n",
    "            j=j+1\n",
    "        i=i+1\n",
    "        j=0\n",
    "        print()\n",
    "    print(\"kk=\",kk)\n",
    "    if kk==N:\n",
    "        break\n",
    "    kk=kk+1\n",
    "    k=k+1\n",
    "    k1=k1+1\n",
    "    k3=k3-1\n",
    "    k2=k2+2\n",
    "    i=j=k=0\n",
    "    k1=1"
   ]
  },
  {
   "cell_type": "code",
   "execution_count": 3,
   "id": "e2efb53b",
   "metadata": {},
   "outputs": [
    {
     "name": "stdout",
     "output_type": "stream",
     "text": [
      "4\n",
      "4444444\n",
      "4333334\n",
      "4322234\n",
      "4321234\n",
      "4322234\n",
      "4333334\n",
      "4444444\n"
     ]
    }
   ],
   "source": [
    "N=int(input())\n",
    "i=j=0\n",
    "while i<((2*N)-1):\n",
    "    while j<((2*N)-1):\n",
    "        print(1+(max(abs(N-i-1),abs(N-j-1))),end='')\n",
    "        j=j+1\n",
    "    i=i+1\n",
    "    j=0\n",
    "    print()"
   ]
  },
  {
   "cell_type": "raw",
   "id": "0a8fe535",
   "metadata": {},
   "source": [
    "1  2  3  4  5        1   2  3   4\n",
    "11 12 13 14 15       9  10  11  12\n",
    "21 22 23 24 25       13 14  15  16\n",
    "16 17 18 19 20       5   6  7   8\n",
    "6  7  8  9  10"
   ]
  },
  {
   "cell_type": "code",
   "execution_count": 2,
   "id": "faa64838",
   "metadata": {},
   "outputs": [
    {
     "name": "stdout",
     "output_type": "stream",
     "text": [
      "5\n",
      "1  2  3  4  5  \n",
      "11  12  13  14  15  \n",
      "21  22  23  24  25  \n",
      "16  17  18  19  20  \n",
      "6  7  8  9  10  \n"
     ]
    }
   ],
   "source": [
    "N=int(input())\n",
    "t=N*2\n",
    "k1=1\n",
    "i=j=k=p1=p=1\n",
    "if N%2!=0:\n",
    "    p=(N//2)+1\n",
    "    while i<=p:\n",
    "        k=k1\n",
    "        while j<=N:\n",
    "            print(k,end=\"  \")\n",
    "            j=j+1\n",
    "            k=k+1\n",
    "        j=1\n",
    "        k1=p1+t\n",
    "        p1=p1+t\n",
    "        i=i+1\n",
    "        print()\n",
    "    p2=N-p\n",
    "    i=j=1\n",
    "    k=k-1\n",
    "    k=k-((N*2)-1)\n",
    "    k1=k\n",
    "    p1=k\n",
    "    while i<=p2:\n",
    "        k=k1\n",
    "        while j<=N:\n",
    "            print(k,end=\"  \")\n",
    "            j=j+1\n",
    "            k=k+1\n",
    "        j=1\n",
    "        k1=p1-t\n",
    "        p1=p1-t\n",
    "        i=i+1\n",
    "        print()\n",
    "else:\n",
    "    p=(N//2)\n",
    "    while i<=p:\n",
    "        k=k1\n",
    "        while j<=N:\n",
    "            print(k,end=\"  \")\n",
    "            j=j+1\n",
    "            k=k+1\n",
    "        j=1\n",
    "        k1=p1+t\n",
    "        p1=p1+t\n",
    "        i=i+1\n",
    "        print()\n",
    "    i=j=1\n",
    "    k1=k\n",
    "    p1=k\n",
    "    p2=N-p\n",
    "    while i<=p2:\n",
    "        k=k1\n",
    "        while j<=N:\n",
    "            print(k,end=\"  \")\n",
    "            j=j+1\n",
    "            k=k+1\n",
    "        j=1\n",
    "        k1=p1-t\n",
    "        p1=p1-t\n",
    "        i=i+1\n",
    "        print()"
   ]
  },
  {
   "cell_type": "code",
   "execution_count": 44,
   "id": "e59daa55",
   "metadata": {},
   "outputs": [
    {
     "name": "stdout",
     "output_type": "stream",
     "text": [
      "hi\n"
     ]
    }
   ],
   "source": [
    "print(\"hi\")"
   ]
  },
  {
   "cell_type": "code",
   "execution_count": null,
   "id": "07efd99e",
   "metadata": {},
   "outputs": [],
   "source": []
  }
 ],
 "metadata": {
  "kernelspec": {
   "display_name": "Python 3 (ipykernel)",
   "language": "python",
   "name": "python3"
  },
  "language_info": {
   "codemirror_mode": {
    "name": "ipython",
    "version": 3
   },
   "file_extension": ".py",
   "mimetype": "text/x-python",
   "name": "python",
   "nbconvert_exporter": "python",
   "pygments_lexer": "ipython3",
   "version": "3.9.7"
  }
 },
 "nbformat": 4,
 "nbformat_minor": 5
}
