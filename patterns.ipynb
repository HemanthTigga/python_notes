{
 "cells": [
  {
   "cell_type": "code",
   "execution_count": 9,
   "id": "ab17ae01",
   "metadata": {},
   "outputs": [
    {
     "name": "stdout",
     "output_type": "stream",
     "text": [
      "5\n",
      "*****\n",
      "*****\n",
      "*****\n",
      "*****\n",
      "*****\n"
     ]
    }
   ],
   "source": [
    "N=int(input())\n",
    "i=0\n",
    "j=0\n",
    "while i<N:\n",
    "    while j<N:\n",
    "        print(\"*\",end='')\n",
    "        j=j+1\n",
    "    j=0\n",
    "    print()\n",
    "    i=i+1"
   ]
  },
  {
   "cell_type": "code",
   "execution_count": 7,
   "id": "ecf6e19b",
   "metadata": {},
   "outputs": [
    {
     "name": "stdout",
     "output_type": "stream",
     "text": [
      "4\n",
      "1111\n",
      "2222\n",
      "3333\n",
      "4444\n"
     ]
    }
   ],
   "source": [
    "N=int(input())\n",
    "i=1\n",
    "j=0\n",
    "while i<=N:\n",
    "    while j<N:\n",
    "        print(i,end='')\n",
    "        j=j+1\n",
    "    j=0\n",
    "    print()\n",
    "    i=i+1"
   ]
  },
  {
   "cell_type": "code",
   "execution_count": 11,
   "id": "39dcee06",
   "metadata": {},
   "outputs": [
    {
     "name": "stdout",
     "output_type": "stream",
     "text": [
      "4\n",
      "1234\n",
      "1234\n",
      "1234\n",
      "1234\n"
     ]
    }
   ],
   "source": [
    "N=int(input())\n",
    "i=0\n",
    "j=0\n",
    "while i<N:\n",
    "    while j<N:\n",
    "        print(j+1,end='')\n",
    "        j=j+1\n",
    "    j=0\n",
    "    print()\n",
    "    i=i+1"
   ]
  },
  {
   "cell_type": "code",
   "execution_count": 14,
   "id": "9488d58d",
   "metadata": {},
   "outputs": [
    {
     "name": "stdout",
     "output_type": "stream",
     "text": [
      "5\n",
      "54321\n",
      "54321\n",
      "54321\n",
      "54321\n",
      "54321\n"
     ]
    }
   ],
   "source": [
    "N=int(input())\n",
    "i=0\n",
    "j=0\n",
    "p=N\n",
    "while i<N:\n",
    "    while j<N:\n",
    "        print(p,end='')\n",
    "        p=p-1\n",
    "        j=j+1\n",
    "    j=0\n",
    "    i=i+1\n",
    "    p=N\n",
    "    print()"
   ]
  },
  {
   "cell_type": "code",
   "execution_count": 22,
   "id": "99080a95",
   "metadata": {},
   "outputs": [
    {
     "name": "stdout",
     "output_type": "stream",
     "text": [
      "4\n",
      "1\n",
      "22\n",
      "333\n",
      "4444\n"
     ]
    }
   ],
   "source": [
    "N=int(input())\n",
    "p=1\n",
    "i=1\n",
    "j=1\n",
    "while i<=N:\n",
    "    while j<=i:\n",
    "        print(j,end='')\n",
    "        j=j+1\n",
    "    print()\n",
    "    j=1\n",
    "    i=i+1"
   ]
  },
  {
   "cell_type": "code",
   "execution_count": 7,
   "id": "1b55c8ce",
   "metadata": {},
   "outputs": [
    {
     "name": "stdout",
     "output_type": "stream",
     "text": [
      "5\n",
      "15 \n",
      "14 10 \n",
      "13 9 6 \n",
      "12 8 5 3 \n",
      "11 7 4 2 1 \n"
     ]
    }
   ],
   "source": [
    "N=int(input())\n",
    "p=N-1\n",
    "t=k=N*3\n",
    "i=j=1\n",
    "while i<=N:\n",
    "    while j<=i:\n",
    "        print(k,end=' ')\n",
    "        j=j+1\n",
    "        k=k-p\n",
    "        p=p-1\n",
    "    print()\n",
    "    j=1\n",
    "    i=i+1\n",
    "    p=4\n",
    "    k=t-1\n",
    "    t=t-1"
   ]
  },
  {
   "cell_type": "code",
   "execution_count": 65,
   "id": "dc2d7532",
   "metadata": {},
   "outputs": [
    {
     "name": "stdout",
     "output_type": "stream",
     "text": [
      "4\n",
      "A\n",
      "BB\n",
      "CCC\n",
      "DDDD\n"
     ]
    }
   ],
   "source": [
    "N=int(input())\n",
    "p=65\n",
    "i=1\n",
    "j=1\n",
    "while i<=N:\n",
    "    while j<=i:\n",
    "        print(chr(p),end='')\n",
    "        j=j+1\n",
    "    print()\n",
    "    j=1\n",
    "    i=i+1\n",
    "    p=p+1"
   ]
  },
  {
   "cell_type": "code",
   "execution_count": 9,
   "id": "eee1fb02",
   "metadata": {},
   "outputs": [
    {
     "name": "stdout",
     "output_type": "stream",
     "text": [
      "4\n",
      "4444\n",
      "333\n",
      "22\n",
      "1\n"
     ]
    }
   ],
   "source": [
    "N=int(input())\n",
    "i=N\n",
    "j=1\n",
    "while i>0:\n",
    "    while j<=i:\n",
    "        print(i,end='')\n",
    "        j=j+1\n",
    "    print()\n",
    "    j=1\n",
    "    i=i-1"
   ]
  },
  {
   "cell_type": "code",
   "execution_count": 11,
   "id": "8f8d0517",
   "metadata": {},
   "outputs": [
    {
     "name": "stdout",
     "output_type": "stream",
     "text": [
      "5\n",
      "    *\n",
      "   **\n",
      "  ***\n",
      " ****\n",
      "*****\n"
     ]
    }
   ],
   "source": [
    "N=int(input())\n",
    "i=N\n",
    "p=0\n",
    "p1=1\n",
    "j=1\n",
    "while i>0:\n",
    "    while j<i:\n",
    "        print(\" \",end='')\n",
    "        j=j+1\n",
    "    while p>=0:\n",
    "        print(\"*\",end='')\n",
    "        p=p-1\n",
    "    p=p1\n",
    "    p1=p1+1\n",
    "    print()\n",
    "    j=1\n",
    "    i=i-1"
   ]
  },
  {
   "cell_type": "code",
   "execution_count": 42,
   "id": "ca163225",
   "metadata": {},
   "outputs": [
    {
     "name": "stdout",
     "output_type": "stream",
     "text": [
      "4\n",
      " ***\n",
      "  **\n",
      "   *\n",
      "    \n"
     ]
    }
   ],
   "source": [
    "N=int(input())\n",
    "i=3\n",
    "j=1\n",
    "while i>=0:\n",
    "    while j<=N-i:\n",
    "        print(\" \",end='')\n",
    "        j=j+1\n",
    "    p=1\n",
    "    while p<=i:\n",
    "        print(\"*\",end='')\n",
    "        p=p+1\n",
    "    print()\n",
    "    j=1\n",
    "    i=i-1"
   ]
  },
  {
   "cell_type": "code",
   "execution_count": 67,
   "id": "56c139bc",
   "metadata": {},
   "outputs": [
    {
     "name": "stdout",
     "output_type": "stream",
     "text": [
      "11\n",
      "     *\n",
      "    ***\n",
      "   *****\n",
      "  *******\n",
      " *********\n",
      "***********\n",
      " *********\n",
      "  *******\n",
      "   *****\n",
      "    ***\n",
      "     *\n",
      "      \n"
     ]
    }
   ],
   "source": [
    "N1=int(input())\n",
    "N=N1-(N1//2)\n",
    "i=1\n",
    "s=1\n",
    "j=1\n",
    "jj1=1\n",
    "p1=1\n",
    "while i<=N:\n",
    "    j1=i-1\n",
    "    while j<=N-i:\n",
    "        print(\" \",end='')\n",
    "        j=j+1\n",
    "    p=1\n",
    "    while p<=i:\n",
    "        print(\"*\",end='')\n",
    "        p=p+1\n",
    "        s=s+1\n",
    "    while p1<i:\n",
    "        print(\"*\",end='')\n",
    "        j1=j1-1\n",
    "        p1=p1+1\n",
    "    t1=p1+p\n",
    "    p1=1\n",
    "    print()\n",
    "    j=1\n",
    "    i=i+1\n",
    "    s=1\n",
    "i=i-2\n",
    "j=1\n",
    "while i>=0:\n",
    "    while j<=N-i:\n",
    "        print(\" \",end='')\n",
    "        j=j+1\n",
    "    p=1\n",
    "    while p<=i:\n",
    "        print(\"*\",end='')\n",
    "        p=p+1\n",
    "    j=jj1\n",
    "    p=1\n",
    "    while j<i:\n",
    "        print(\"*\",end='')\n",
    "        j=j+1\n",
    "    print()\n",
    "    j=1\n",
    "    i=i-1"
   ]
  },
  {
   "cell_type": "code",
   "execution_count": 2,
   "id": "ede82511",
   "metadata": {},
   "outputs": [
    {
     "name": "stdout",
     "output_type": "stream",
     "text": [
      "4\n",
      "   1\n",
      "  232\n",
      " 34543\n",
      "4567654\n"
     ]
    }
   ],
   "source": [
    "N=int(input())\n",
    "i=1\n",
    "s=1\n",
    "j=1\n",
    "p1=1\n",
    "j1=2\n",
    "while i<=N:\n",
    "    while j<=N-i:\n",
    "        print(\" \",end='')\n",
    "        j=j+1\n",
    "    p=1\n",
    "    while p<=i:\n",
    "        print(s,end='')\n",
    "        p=p+1\n",
    "        s=s+1\n",
    "    j1=s-2\n",
    "    while p1<i:\n",
    "        print(j1,end='')\n",
    "        j1=j1-1\n",
    "        p1=p1+1\n",
    "    p1=1\n",
    "    print()\n",
    "    j=1\n",
    "    s=i+1\n",
    "    i=i+1"
   ]
  },
  {
   "cell_type": "code",
   "execution_count": 6,
   "id": "4308a3df",
   "metadata": {},
   "outputs": [
    {
     "name": "stdout",
     "output_type": "stream",
     "text": [
      "4\n",
      "   1\n",
      "  212\n",
      " 32123\n",
      "4321234\n"
     ]
    }
   ],
   "source": [
    "N=int(input())\n",
    "i=1\n",
    "s=s1=1\n",
    "j=1\n",
    "p1=1\n",
    "j1=2\n",
    "while i<=N:\n",
    "    while j<=N-i:\n",
    "        print(\" \",end='')\n",
    "        j=j+1\n",
    "    p=1\n",
    "    while p<=i:\n",
    "        print(s1,end='')\n",
    "        p=p+1\n",
    "        s=s+1\n",
    "        s1=s1-1\n",
    "    j1=2\n",
    "    while p1<i:\n",
    "        print(j1,end='')\n",
    "        j1=j1+1\n",
    "        p1=p1+1\n",
    "    p1=1\n",
    "    print()\n",
    "    j=1\n",
    "    s=i+1\n",
    "    s1=s\n",
    "    i=i+1"
   ]
  },
  {
   "cell_type": "code",
   "execution_count": 4,
   "id": "bdff01a3",
   "metadata": {},
   "outputs": [
    {
     "name": "stdout",
     "output_type": "stream",
     "text": [
      "4\n",
      "   1\n",
      "  12\n",
      " 123\n",
      "1234\n"
     ]
    }
   ],
   "source": [
    "N=int(input())\n",
    "i=1\n",
    "s=1\n",
    "j=1\n",
    "while i<=N:\n",
    "    while j<=N-i:\n",
    "        print(\" \",end='')\n",
    "        j=j+1\n",
    "    p=1\n",
    "    while p<=i:\n",
    "        print(s,end='')\n",
    "        p=p+1\n",
    "        s=s+1\n",
    "    print()\n",
    "    j=1\n",
    "    i=i+1\n",
    "    s=1"
   ]
  },
  {
   "cell_type": "code",
   "execution_count": 28,
   "id": "d6d67a3e",
   "metadata": {},
   "outputs": [
    {
     "name": "stdout",
     "output_type": "stream",
     "text": [
      "4\n",
      "1\n",
      "11\n",
      "111\n",
      "1111\n"
     ]
    }
   ],
   "source": [
    "N=int(input())\n",
    "p=1\n",
    "i=1\n",
    "j=1\n",
    "while i<=N:\n",
    "    while j<=i:\n",
    "        print(1,end='')\n",
    "        j=j+1\n",
    "    print()\n",
    "    j=1\n",
    "    i=i+1"
   ]
  },
  {
   "cell_type": "code",
   "execution_count": 53,
   "id": "c1379f3b",
   "metadata": {},
   "outputs": [
    {
     "name": "stdout",
     "output_type": "stream",
     "text": [
      "4\n",
      "1\n",
      "11\n",
      "202\n",
      "3003\n"
     ]
    }
   ],
   "source": [
    "N=int(input())\n",
    "i=1\n",
    "j=0\n",
    "while i<=N:\n",
    "    while j<i:\n",
    "        x=i-1\n",
    "        if x==0:\n",
    "            print(1,end='')\n",
    "        else:\n",
    "            if x==j or j==0:\n",
    "                print(x,end='')\n",
    "            else:\n",
    "                print(0,end='')\n",
    "        j=j+1\n",
    "    print()\n",
    "    j=0\n",
    "    i=i+1"
   ]
  },
  {
   "cell_type": "code",
   "execution_count": 55,
   "id": "cfc668e2",
   "metadata": {},
   "outputs": [
    {
     "name": "stdout",
     "output_type": "stream",
     "text": [
      "5\n",
      "1\n",
      "11\n",
      "121\n",
      "1221\n",
      "12221\n"
     ]
    }
   ],
   "source": [
    "N=int(input())\n",
    "i=1\n",
    "j=0\n",
    "while i<=N:\n",
    "    while j<i:\n",
    "        x=i-1\n",
    "        if x==0:\n",
    "            print(1,end='')\n",
    "        else:\n",
    "            if x==j or j==0:\n",
    "                print(1,end='')\n",
    "            else:\n",
    "                print(2,end='')\n",
    "        j=j+1\n",
    "    print()\n",
    "    j=0\n",
    "    i=i+1"
   ]
  },
  {
   "cell_type": "code",
   "execution_count": 23,
   "id": "e8bc11ed",
   "metadata": {},
   "outputs": [
    {
     "name": "stdout",
     "output_type": "stream",
     "text": [
      "4\n",
      "1\n",
      "22\n",
      "333\n",
      "4444\n"
     ]
    }
   ],
   "source": [
    "N=int(input())\n",
    "p=1\n",
    "i=1\n",
    "j=1\n",
    "while i<=N:\n",
    "    while j<=i:\n",
    "        print(i,end='')\n",
    "        j=j+1\n",
    "    print()\n",
    "    j=1\n",
    "    i=i+1"
   ]
  },
  {
   "cell_type": "code",
   "execution_count": 25,
   "id": "c8747b8f",
   "metadata": {},
   "outputs": [
    {
     "name": "stdout",
     "output_type": "stream",
     "text": [
      "4\n",
      "1\n",
      "21\n",
      "321\n",
      "4321\n"
     ]
    }
   ],
   "source": [
    "N=int(input())\n",
    "i=1\n",
    "j=1\n",
    "while i<=N:\n",
    "    p=i\n",
    "    while j<=i:\n",
    "        print(p,end='')\n",
    "        p=p-1\n",
    "        j=j+1\n",
    "    print()\n",
    "    j=1\n",
    "    i=i+1"
   ]
  },
  {
   "cell_type": "code",
   "execution_count": 11,
   "id": "e19e96cf",
   "metadata": {},
   "outputs": [
    {
     "name": "stdout",
     "output_type": "stream",
     "text": [
      "5\n",
      "1\n",
      "23\n",
      "345\n",
      "4567\n",
      "56789\n"
     ]
    }
   ],
   "source": [
    "N=int(input())\n",
    "i=1\n",
    "j=1\n",
    "while i<=N:\n",
    "    p=i\n",
    "    while j<=i:\n",
    "        print(p,end='')\n",
    "        p=p+1\n",
    "        j=j+1\n",
    "    print()\n",
    "    j=1\n",
    "    i=i+1"
   ]
  },
  {
   "cell_type": "code",
   "execution_count": 19,
   "id": "c2698404",
   "metadata": {},
   "outputs": [
    {
     "name": "stdout",
     "output_type": "stream",
     "text": [
      "4\n",
      "1\n",
      "23\n",
      "456\n",
      "78910\n"
     ]
    }
   ],
   "source": [
    "N=int(input())\n",
    "i=1\n",
    "j=1\n",
    "p=1\n",
    "while i<=N:\n",
    "    while j<=i:\n",
    "        print(p,end='')\n",
    "        p=p+1\n",
    "        j=j+1\n",
    "    print()\n",
    "    j=1\n",
    "    i=i+1"
   ]
  },
  {
   "cell_type": "code",
   "execution_count": 4,
   "id": "60a8ef00",
   "metadata": {},
   "outputs": [
    {
     "name": "stdout",
     "output_type": "stream",
     "text": [
      "4\n",
      "ABCD\n",
      "ABCD\n",
      "ABCD\n",
      "ABCD\n"
     ]
    }
   ],
   "source": [
    "N=int(input())\n",
    "i=0\n",
    "j=0\n",
    "p=65\n",
    "while i<N:\n",
    "    while j<N:\n",
    "        print(chr(p),end='')\n",
    "        p=p+1\n",
    "        j=j+1\n",
    "    i=i+1\n",
    "    print()\n",
    "    p=65\n",
    "    j=0"
   ]
  },
  {
   "cell_type": "code",
   "execution_count": 7,
   "id": "12847da4",
   "metadata": {},
   "outputs": [
    {
     "name": "stdout",
     "output_type": "stream",
     "text": [
      "5\n",
      "ABCDE\n",
      "BCDEF\n",
      "CDEFG\n",
      "DEFGH\n",
      "EFGHI\n"
     ]
    }
   ],
   "source": [
    "N=int(input())\n",
    "i=0\n",
    "j=0\n",
    "p=65\n",
    "p1=65\n",
    "while i<N:\n",
    "    while j<N:\n",
    "        print(chr(p),end='')\n",
    "        p=p+1\n",
    "        j=j+1\n",
    "    i=i+1\n",
    "    print()\n",
    "    p=p1+1\n",
    "    p1=p1+1\n",
    "    j=0"
   ]
  },
  {
   "cell_type": "code",
   "execution_count": 19,
   "id": "8d8e3eba",
   "metadata": {},
   "outputs": [
    {
     "name": "stdout",
     "output_type": "stream",
     "text": [
      "5\n",
      "A\n",
      "BC\n",
      "CDE\n",
      "DEFG\n",
      "EFGHI\n"
     ]
    }
   ],
   "source": [
    "N=int(input())\n",
    "i=j=0\n",
    "p=65\n",
    "p1=65\n",
    "while i<N:\n",
    "    while j<=i:\n",
    "        print(chr(p),end='')\n",
    "        p=p+1\n",
    "        j=j+1\n",
    "    i=i+1\n",
    "    print()\n",
    "    p=p1+1\n",
    "    p1=p1+1\n",
    "    j=0"
   ]
  },
  {
   "cell_type": "code",
   "execution_count": 27,
   "id": "6b04c59e",
   "metadata": {},
   "outputs": [
    {
     "name": "stdout",
     "output_type": "stream",
     "text": [
      "5\n",
      "E\n",
      "DE\n",
      "CDE\n",
      "BCDE\n",
      "ABCDE\n"
     ]
    }
   ],
   "source": [
    "N=int(input())\n",
    "i=j=0\n",
    "p=65+(N-1)\n",
    "p1=65+(N-1)\n",
    "while i<N:\n",
    "    while j<=i:\n",
    "        print(chr(p),end='')\n",
    "        p=p+1\n",
    "        j=j+1\n",
    "    i=i+1\n",
    "    print()\n",
    "    p=p1-1\n",
    "    p1=p1-1\n",
    "    j=0"
   ]
  },
  {
   "cell_type": "code",
   "execution_count": 24,
   "id": "c2e41e2c",
   "metadata": {},
   "outputs": [
    {
     "data": {
      "text/plain": [
       "'E'"
      ]
     },
     "execution_count": 24,
     "metadata": {},
     "output_type": "execute_result"
    }
   ],
   "source": [
    "chr(69)"
   ]
  },
  {
   "cell_type": "code",
   "execution_count": 6,
   "id": "17a1a87e",
   "metadata": {},
   "outputs": [
    {
     "name": "stdout",
     "output_type": "stream",
     "text": [
      "*\n"
     ]
    }
   ],
   "source": [
    "print(\"*\")"
   ]
  },
  {
   "cell_type": "code",
   "execution_count": 37,
   "id": "42c4b221",
   "metadata": {},
   "outputs": [
    {
     "data": {
      "text/plain": [
       "2"
      ]
     },
     "execution_count": 37,
     "metadata": {},
     "output_type": "execute_result"
    }
   ],
   "source": [
    "5//2"
   ]
  },
  {
   "cell_type": "code",
   "execution_count": 3,
   "id": "92488ee9",
   "metadata": {},
   "outputs": [
    {
     "name": "stdout",
     "output_type": "stream",
     "text": [
      "2"
     ]
    }
   ],
   "source": [
    "\n",
    "p1=2\n",
    "for j in range(1,2,1):\n",
    "        print(p1,end='')"
   ]
  },
  {
   "cell_type": "code",
   "execution_count": 10,
   "id": "8bb7b518",
   "metadata": {},
   "outputs": [
    {
     "name": "stdout",
     "output_type": "stream",
     "text": [
      "5\n",
      "    1\n",
      "   232\n",
      "  34543\n",
      " 4567654\n",
      "567898765\n"
     ]
    }
   ],
   "source": [
    "N=int(input())\n",
    "p=N\n",
    "j1=0\n",
    "p1=1\n",
    "p2=2\n",
    "j2=2\n",
    "for i in range(1,N+1,1):\n",
    "    for j in range(p,1,-1):\n",
    "        print(\" \",end='')\n",
    "    for j in range(1,i+1,1):\n",
    "        print(p1,end='')\n",
    "        p1=p1+1\n",
    "    for j in range(1,i,1):\n",
    "        print(j1,end='')\n",
    "        j1=j1-1\n",
    "    p=p-1\n",
    "    p1=p2\n",
    "    p2=p2+1\n",
    "    j1=j2\n",
    "    print()\n",
    "    j2=j2+2\n",
    "        "
   ]
  },
  {
   "cell_type": "code",
   "execution_count": null,
   "id": "4f2665a3",
   "metadata": {},
   "outputs": [],
   "source": []
  }
 ],
 "metadata": {
  "kernelspec": {
   "display_name": "Python 3 (ipykernel)",
   "language": "python",
   "name": "python3"
  },
  "language_info": {
   "codemirror_mode": {
    "name": "ipython",
    "version": 3
   },
   "file_extension": ".py",
   "mimetype": "text/x-python",
   "name": "python",
   "nbconvert_exporter": "python",
   "pygments_lexer": "ipython3",
   "version": "3.9.7"
  }
 },
 "nbformat": 4,
 "nbformat_minor": 5
}
