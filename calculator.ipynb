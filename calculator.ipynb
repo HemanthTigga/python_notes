{
 "cells": [
  {
   "cell_type": "code",
   "execution_count": 1,
   "id": "e9b0158a",
   "metadata": {},
   "outputs": [
    {
     "name": "stdout",
     "output_type": "stream",
     "text": [
      "3\n",
      "1\n",
      "2\n",
      "2\n",
      "4\n",
      "4\n",
      "2\n",
      "6\n",
      "6\n"
     ]
    }
   ],
   "source": [
    "# Write your code here\n",
    "\n",
    "c=int(input())\n",
    "while c!=6:\n",
    "    \n",
    "    if c==1:\n",
    "        a=int(input())\n",
    "        b=int(input())\n",
    "        print(a+b)\n",
    "    elif c==2:\n",
    "        a=int(input())\n",
    "        b=int(input())\n",
    "        print(a-b)\n",
    "    elif c==3:\n",
    "        a=int(input())\n",
    "        b=int(input())\n",
    "        print(a*b)\n",
    "    elif c==4:\n",
    "        a=int(input())\n",
    "        b=int(input())\n",
    "        print(int(a+b))\n",
    "    elif c==5:\n",
    "        a=int(input())\n",
    "        b=int(input())\n",
    "        print(a%b)\n",
    "    elif c==7:\n",
    "        print(\"Invalid Operation\")\n",
    "    a=0\n",
    "    b=0\n",
    "    c=int(input())"
   ]
  },
  {
   "cell_type": "code",
   "execution_count": null,
   "id": "c23e2661",
   "metadata": {},
   "outputs": [],
   "source": []
  }
 ],
 "metadata": {
  "kernelspec": {
   "display_name": "Python 3 (ipykernel)",
   "language": "python",
   "name": "python3"
  },
  "language_info": {
   "codemirror_mode": {
    "name": "ipython",
    "version": 3
   },
   "file_extension": ".py",
   "mimetype": "text/x-python",
   "name": "python",
   "nbconvert_exporter": "python",
   "pygments_lexer": "ipython3",
   "version": "3.9.7"
  }
 },
 "nbformat": 4,
 "nbformat_minor": 5
}
