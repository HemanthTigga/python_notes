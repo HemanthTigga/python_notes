{
 "cells": [
  {
   "cell_type": "code",
   "execution_count": 7,
   "id": "fb862124",
   "metadata": {},
   "outputs": [
    {
     "name": "stdout",
     "output_type": "stream",
     "text": [
      "[2, 2, 2, 2, 1, 1, 2, 2, 2, 2, 2, 2, 2, 2]\n",
      "[2, 1]\n"
     ]
    }
   ],
   "source": [
    "def intersection(arr1,arr2,n,m):\n",
    "    arr3=[]\n",
    "    for i in range(n):\n",
    "        for j in range(m):\n",
    "            if arr1[i]==arr2[j]:\n",
    "                arr3.append(arr2[j])\n",
    "    print(arr3)\n",
    "    n1=len(arr3)\n",
    "    res=[]\n",
    "    for i in arr3:\n",
    "        if i not in res:\n",
    "            res.append(i)\n",
    "    return res\n",
    "arr1=[2,1,2,2]\n",
    "n=len(arr1)\n",
    "arr2=[2,2,1,2,22,2,1]\n",
    "m=len(arr2)\n",
    "arr3=intersection(arr1,arr2,n,m)\n",
    "print(arr3)"
   ]
  },
  {
   "cell_type": "code",
   "execution_count": 1,
   "id": "a41e249c",
   "metadata": {},
   "outputs": [
    {
     "name": "stdout",
     "output_type": "stream",
     "text": [
      "1 2 1 4 5 "
     ]
    }
   ],
   "source": [
    "#correct Code\n",
    "def intersections(arr1, n, arr2, m) :\n",
    "    for i in range(n):\n",
    "        for j in range(m):\n",
    "            if arr1[i]==arr2[j]:\n",
    "                print(arr1[i],end=' ')\n",
    "                arr1[i]=None\n",
    "                arr2[j]=None\n",
    "                break\n",
    "\n",
    "arr1=[1,2,1,2,1,4,5,4]\n",
    "arr2=[1,2,4,5,1]\n",
    "intersections(arr1,len(arr1),arr2,len(arr2))"
   ]
  },
  {
   "cell_type": "code",
   "execution_count": 2,
   "id": "a17d0f53",
   "metadata": {},
   "outputs": [
    {
     "name": "stdout",
     "output_type": "stream",
     "text": [
      "1 2 46 5 6 41 6 4 6 \n",
      "5\n",
      "1\n"
     ]
    }
   ],
   "source": [
    "def pairsum(arr,x):\n",
    "    c=0\n",
    "    for i in range(len(arr)):\n",
    "        for j in range(i+1,len(arr)):\n",
    "            if (arr[i]+arr[j])==x:\n",
    "                c=c+1\n",
    "    return c\n",
    "\n",
    "arr=[int(a) for a in input().split()]\n",
    "x=int(input())\n",
    "c=pairsum(arr,x)\n",
    "print(c)"
   ]
  },
  {
   "cell_type": "code",
   "execution_count": 1,
   "id": "d4984070",
   "metadata": {},
   "outputs": [
    {
     "name": "stdout",
     "output_type": "stream",
     "text": [
      "1 2 34 6 4 8 7\n",
      "4\n",
      "0\n"
     ]
    }
   ],
   "source": [
    "def tripletsum(arr,x):\n",
    "    c=0\n",
    "    for i in range(len(arr)):\n",
    "        for j in range(i+1,len(arr)):\n",
    "            for k in range(j+1,len(arr)):\n",
    "                if (arr[i]+arr[j]+arr[k])==x:\n",
    "                    c=c+1\n",
    "    return c\n",
    "\n",
    "arr=[int(a) for a in input().split()]\n",
    "x=int(input())\n",
    "c=tripletsum(arr,x)\n",
    "print(c)"
   ]
  },
  {
   "cell_type": "markdown",
   "id": "60064f66",
   "metadata": {},
   "source": [
    "Binary Search"
   ]
  },
  {
   "cell_type": "code",
   "execution_count": 2,
   "id": "a387d940",
   "metadata": {},
   "outputs": [
    {
     "name": "stdout",
     "output_type": "stream",
     "text": [
      "1 4 8 10 15 19 24 28 32 33 35\n",
      "10\n",
      "3\n"
     ]
    }
   ],
   "source": [
    "#First occurance\n",
    "from sys import stdin\n",
    "arr=[int(a) for a in input().split()]\n",
    "arr.sort()\n",
    "#print(arr)\n",
    "num=int(input())\n",
    "l=0\n",
    "u=len(arr)-1\n",
    "m=0\n",
    "index=-1\n",
    "#if num<arr[u-1]:\n",
    "while u>=l:\n",
    "    m=(u+l)//2\n",
    "        #print(arr[m])\n",
    "    if arr[m]==num:\n",
    "        index=m\n",
    "        break\n",
    "    if arr[m]<num:\n",
    "        l=m+1\n",
    "    if arr[m]>num:\n",
    "        u=m-1\n",
    "print(index)"
   ]
  },
  {
   "cell_type": "markdown",
   "id": "4f92fe9d",
   "metadata": {},
   "source": [
    "Selection sort"
   ]
  },
  {
   "cell_type": "code",
   "execution_count": 13,
   "id": "f89b790e",
   "metadata": {},
   "outputs": [
    {
     "name": "stdout",
     "output_type": "stream",
     "text": [
      "1 4 2 5 3 6 25 1 4 5 24 5   52455485  5 4 5 485  5 0 5 2 \n",
      "[0, 1, 1, 2, 2, 3, 4, 4, 4, 5, 5, 5, 5, 5, 5, 5, 6, 24, 25, 485, 52455485]\n"
     ]
    }
   ],
   "source": [
    "#ascending order\n",
    "arr=[int(a) for a in input().split()]\n",
    "N=len(arr)\n",
    "for i in range(0,N):\n",
    "    s=i\n",
    "    for j in range(i+1,N):\n",
    "        if arr[s]>arr[j]:\n",
    "            s=j\n",
    "    arr[i],arr[s]=arr[s],arr[i]\n",
    "print(arr)"
   ]
  },
  {
   "cell_type": "markdown",
   "id": "00764a15",
   "metadata": {},
   "source": [
    "Bubble Sort (not optimized)"
   ]
  },
  {
   "cell_type": "code",
   "execution_count": 2,
   "id": "08cad872",
   "metadata": {},
   "outputs": [
    {
     "name": "stdout",
     "output_type": "stream",
     "text": [
      "1 2 4 51   6 54 1 1 2 45  5 1 45 48 7 5\n",
      "[1, 1, 1, 1, 2, 2, 4, 5, 5, 6, 7, 45, 45, 48, 51, 54]\n"
     ]
    }
   ],
   "source": [
    "#ascending order\n",
    "arr1=[int(a) for a in input().split()]\n",
    "n=len(arr1)\n",
    "for i in range(0,n):\n",
    "    for j in range(0,n-1):\n",
    "        if arr1[j]>arr1[j+1]:\n",
    "            arr1[j],arr1[j+1]=arr1[j+1],arr1[j]\n",
    "\n",
    "print(arr1)"
   ]
  },
  {
   "cell_type": "markdown",
   "id": "f766dd47",
   "metadata": {},
   "source": [
    "Bubble Sort(Optimized)"
   ]
  },
  {
   "cell_type": "code",
   "execution_count": 18,
   "id": "d3a59149",
   "metadata": {},
   "outputs": [
    {
     "name": "stdout",
     "output_type": "stream",
     "text": [
      "1 2 3 \n",
      "[1, 2, 3]\n"
     ]
    }
   ],
   "source": [
    "#ascending order\n",
    "arr1=[int(a) for a in input().split()]\n",
    "n=len(arr1)\n",
    "for i in range(0,n-1):\n",
    "    for j in range(0,n-1-i):\n",
    "        if arr1[j]>arr1[j+1]:\n",
    "            arr1[j],arr1[j+1]=arr1[j+1],arr1[j]\n",
    " \n",
    "print(arr1)"
   ]
  },
  {
   "cell_type": "code",
   "execution_count": 26,
   "id": "60741d1e",
   "metadata": {},
   "outputs": [
    {
     "name": "stdout",
     "output_type": "stream",
     "text": [
      "1 2 4 5 12 151 1\n",
      "[1, 1, 2, 4, 5, 12, 151]\n"
     ]
    }
   ],
   "source": [
    "#furthur optimizing\n",
    "#ascending order\n",
    "arr1=[int(a) for a in input().split()]\n",
    "arr2=arr1.sort()\n",
    "n=len(arr1)\n",
    "k=0\n",
    "for i in range(0,n-1):\n",
    "    if arr1!=arr2:\n",
    "        for j in range(0,n-1-i):\n",
    "            if arr1[j]>arr1[j+1]:\n",
    "                arr1[j],arr1[j+1]=arr1[j+1],arr1[j]\n",
    "            if arr1==arr2:\n",
    "                break\n",
    "    else:\n",
    "        break\n",
    "print(arr1)"
   ]
  },
  {
   "cell_type": "markdown",
   "id": "555b5b49",
   "metadata": {},
   "source": [
    "Insertion sort"
   ]
  },
  {
   "cell_type": "code",
   "execution_count": 30,
   "id": "9b7d726a",
   "metadata": {},
   "outputs": [
    {
     "name": "stdout",
     "output_type": "stream",
     "text": [
      "1 2 45  6 4 5 5 5 4 87 8 4\n",
      "[1, 2, 4, 4, 4, 5, 5, 5, 6, 8, 45, 87]\n"
     ]
    }
   ],
   "source": [
    "#ascending order\n",
    "a=[int(a) for a in input().split()]\n",
    "n=len(a)\n",
    "for i in range(1,n):\n",
    "    j=i-1\n",
    "    temp=a[i]\n",
    "    while j>=0 and a[j]>temp:\n",
    "        a[j+1]=a[j]\n",
    "        j=j-1\n",
    "    a[j+1]=temp\n",
    "    \n",
    "print(a)"
   ]
  },
  {
   "cell_type": "markdown",
   "id": "a797c19c",
   "metadata": {},
   "source": [
    "Merge two sorted lists"
   ]
  },
  {
   "cell_type": "code",
   "execution_count": 52,
   "id": "595d51ae",
   "metadata": {},
   "outputs": [
    {
     "name": "stdout",
     "output_type": "stream",
     "text": [
      "1 2 3 \n",
      "4 5 6\n",
      "[1, 2, 3, 4, 5, 6]\n"
     ]
    }
   ],
   "source": [
    "a1=[int(a) for a in input().split()]\n",
    "a2=[int(a) for a in input().split()]\n",
    "l1,l2=len(a1),len(a2)\n",
    "a3=[]\n",
    "j=i=0\n",
    "while i<l1 and j<l2:\n",
    "    if a1[i]<a2[j]:\n",
    "        a3.append(a1[i])\n",
    "        i=i+1\n",
    "    else:\n",
    "        a3.append(a2[j])\n",
    "        j=j+1\n",
    "while i<l1:\n",
    "    a3.append(a1[i])\n",
    "    i=i+1\n",
    "while j<l2:\n",
    "    a3.append(a2[j])\n",
    "    j=j+1\n",
    "print(a3)"
   ]
  },
  {
   "cell_type": "code",
   "execution_count": 22,
   "id": "8bf3d3cf",
   "metadata": {},
   "outputs": [
    {
     "name": "stdout",
     "output_type": "stream",
     "text": [
      "1 0 2 0 2 0 2  20 2 0 2 0 3 \n",
      "[1, 2, 2, 2, 20, 2, 2, 3, 0, 0, 0, 0, 0]\n"
     ]
    }
   ],
   "source": [
    "#Push 0 to end\n",
    "arr=[]\n",
    "arr=[int(a) for a in input().split()]\n",
    "temp=True\n",
    "k1=0\n",
    "n=len(arr)\n",
    "for i in range(0,n-1):\n",
    "    for j in range(0,n-1-i):\n",
    "        if arr[j]==0:\n",
    "            arr[j],arr[j+1]=arr[j+1],arr[j]\n",
    "    for k in range(j+1,n):\n",
    "        #print(\"k=\",k)\n",
    "        if arr[k]==0:\n",
    "            temp=False\n",
    "            break\n",
    "        #if not temp:\n",
    "         #   k1=1\n",
    "          #  break\n",
    "    if k1==1:\n",
    "        break\n",
    " \n",
    "print(arr)"
   ]
  },
  {
   "cell_type": "code",
   "execution_count": 21,
   "id": "b70ebb74",
   "metadata": {},
   "outputs": [
    {
     "name": "stdout",
     "output_type": "stream",
     "text": [
      "1 0 2 0 3 01 0 2 0 3 01 0 2 0 3 0\n",
      "[1, 2, 3, 1, 2, 3, 1, 2, 3, 0, 0, 0, 0, 0, 0, 0]\n"
     ]
    }
   ],
   "source": [
    "#optimized Push to end\n",
    "arr=[int(a) for a in input().split()]\n",
    "n=len(arr)\n",
    "k=0\n",
    "for i in range(n):\n",
    "    if arr[i]!=0:\n",
    "        arr[k]=arr[i]\n",
    "        k=k+1\n",
    "for i in range(k,n):\n",
    "    arr[k]=0\n",
    "    k=k+1\n",
    "print(arr)"
   ]
  },
  {
   "cell_type": "code",
   "execution_count": 64,
   "id": "4d71b1b9",
   "metadata": {},
   "outputs": [
    {
     "name": "stdout",
     "output_type": "stream",
     "text": [
      "5 4 4 5  658 4 65 6\n",
      "7\n",
      "[6, 5, 4, 4, 5, 658, 4, 65]\n"
     ]
    }
   ],
   "source": [
    "#Rotate list\n",
    "a1=[int(a) for a in input().split()]\n",
    "n=len(a1)\n",
    "d=int(input())\n",
    "k=0\n",
    "a2=[]\n",
    "for i in range(d):\n",
    "    a2.append(a1[i])\n",
    "for i in range(d,n):\n",
    "    a1[k]=a1[i]\n",
    "    k=k+1\n",
    "c=0\n",
    "for i in range(k,n):\n",
    "    a1[i]=a2[c]\n",
    "    c=c+1\n",
    "print(a1)"
   ]
  },
  {
   "cell_type": "code",
   "execution_count": 62,
   "id": "c6590139",
   "metadata": {},
   "outputs": [
    {
     "name": "stdout",
     "output_type": "stream",
     "text": [
      "1 54 5 4 5 6 56 58 5 \n",
      "56\n"
     ]
    }
   ],
   "source": [
    "#Second largest number\n",
    "arr=[int(a) for a in input().split()]\n",
    "n=len(arr)\n",
    "c=0\n",
    "slar=lar=-2147483648\n",
    "for i in arr:\n",
    "    if i ==arr[0]:\n",
    "        c=c+1\n",
    "if n<=1 or c==n:\n",
    "    print(-2147483648)\n",
    "else:\n",
    "    for i in range(2,n):\n",
    "        if arr[i]>lar:\n",
    "            slar=lar\n",
    "            lar=arr[i]\n",
    "        elif arr[i]>slar and lar!=arr[i]:\n",
    "            slar=arr[i]\n",
    "    print(slar)"
   ]
  },
  {
   "cell_type": "code",
   "execution_count": 65,
   "id": "6f01abff",
   "metadata": {},
   "outputs": [
    {
     "name": "stdout",
     "output_type": "stream",
     "text": [
      "5 6 1 2 3 4\n",
      "[1, 6, 5, 2, 3, 4]\n",
      "[1, 2, 5, 6, 3, 4]\n",
      "[1, 2, 3, 6, 5, 4]\n",
      "[1, 2, 3, 4, 5, 6]\n",
      "[1, 2, 3, 4, 5, 6]\n",
      "[1, 2, 3, 4, 5, 6]\n"
     ]
    }
   ],
   "source": [
    "#ascending order\n",
    "arr=[int(a) for a in input().split()]\n",
    "N=len(arr)\n",
    "for i in range(0,N):\n",
    "    s=i\n",
    "    for j in range(i+1,N):\n",
    "        if arr[s]>arr[j]:\n",
    "            s=j\n",
    "    arr[i],arr[s]=arr[s],arr[i]\n",
    "    print(arr)\n",
    "#print(arr)"
   ]
  },
  {
   "cell_type": "code",
   "execution_count": 66,
   "id": "2bff2cfc",
   "metadata": {},
   "outputs": [
    {
     "name": "stdout",
     "output_type": "stream",
     "text": [
      "5 6 1 2 3 4\n",
      "[5, 6, 1, 2, 3, 4]\n",
      "[1, 5, 6, 2, 3, 4]\n",
      "[1, 2, 5, 6, 3, 4]\n",
      "[1, 2, 3, 5, 6, 4]\n",
      "[1, 2, 3, 4, 5, 6]\n"
     ]
    }
   ],
   "source": [
    "#ascending order\n",
    "a=[int(a) for a in input().split()]\n",
    "n=len(a)\n",
    "for i in range(1,n):\n",
    "    j=i-1\n",
    "    temp=a[i]\n",
    "    while j>=0 and a[j]>temp:\n",
    "        a[j+1]=a[j]\n",
    "        j=j-1\n",
    "    a[j+1]=temp\n",
    "    print(a)\n",
    "#print(a)"
   ]
  },
  {
   "cell_type": "code",
   "execution_count": 76,
   "id": "7a1b5d2b",
   "metadata": {},
   "outputs": [
    {
     "name": "stdout",
     "output_type": "stream",
     "text": [
      "5 6 1 2 3\n",
      "[1, 2, 3, 5, 6]\n",
      "k= 1\n",
      "[5, 1, 2, 3, 6]\n",
      "srt= [1, 2, 3, 5, 6]\n",
      "k= 2\n",
      "[1, 2, 3, 5, 6]\n",
      "srt= [1, 2, 3, 5, 6]\n"
     ]
    }
   ],
   "source": [
    "#ascending order\n",
    "import sys\n",
    "arr1=[int(a) for a in input().split()]\n",
    "n=len(arr1)\n",
    "k=0\n",
    "arr2=arr1.copy()\n",
    "arr2.sort()\n",
    "print(arr2)\n",
    "for i in range(0,n-1):\n",
    "    for j in range(0,n-1-i):\n",
    "        if arr1[j]>arr1[j+1]:\n",
    "            arr1[j],arr1[j+1]=arr1[j+1],arr1[j]\n",
    "    k=k+1\n",
    "    print(\"k=\",k)\n",
    "    print(arr1)\n",
    "    print(\"srt=\",arr2)\n",
    "    if arr1==arr2:\n",
    "        break\n",
    "#print(arr1)"
   ]
  },
  {
   "cell_type": "code",
   "execution_count": 93,
   "id": "ccf7ed44",
   "metadata": {},
   "outputs": [
    {
     "name": "stdout",
     "output_type": "stream",
     "text": [
      "1 2 3 4 5 0\n",
      "5\n"
     ]
    }
   ],
   "source": [
    "#check rotation\n",
    "arr1=[int(a) for a in input().split()]\n",
    "n=len(arr1)\n",
    "if n!=0:\n",
    "    min=arr1[0]\n",
    "    #print(min)\n",
    "    for i in range(0,n):\n",
    "        #print(i)\n",
    "        if arr1[i]<min:\n",
    "            min=arr1[i]\n",
    "    #print(min)\n",
    "    print(arr1.index(min))\n",
    "else:\n",
    "    print(0)"
   ]
  },
  {
   "cell_type": "code",
   "execution_count": 110,
   "id": "023c0b19",
   "metadata": {},
   "outputs": [
    {
     "name": "stdout",
     "output_type": "stream",
     "text": [
      "2 2 0  2\n",
      "[2, 2, 0, 2]\n"
     ]
    }
   ],
   "source": [
    "arr=[int(a) for a in input().split()]\n",
    "n=len(arr)\n",
    "k=n-1\n",
    "f=p=0\n",
    "for i in range(n//2+1):\n",
    "    if arr[p]==2:\n",
    "        arr[k],arr[p]=arr[p],arr[k]\n",
    "        k=k-1\n",
    "        #print(arr)\n",
    "    elif arr[i]==0:\n",
    "        arr[f],arr[p]=arr[p],arr[f]\n",
    "        f=f+1\n",
    "        #print(arr)\n",
    "    p=p+1\n",
    "print(arr)"
   ]
  },
  {
   "cell_type": "code",
   "execution_count": 109,
   "id": "77bcaba2",
   "metadata": {},
   "outputs": [
    {
     "name": "stdout",
     "output_type": "stream",
     "text": [
      "2 2 1 1 2 1 0 0 1 2 2\n",
      "[2, 2, 1, 1, 1, 1, 0, 0, 2, 2, 2]\n"
     ]
    }
   ],
   "source": [
    "arr=[int(a) for a in input().split()]\n",
    "n=len(arr)\n",
    "k=n-1\n",
    "f=p=0\n",
    "for i in range(n//2+1):\n",
    "    if arr[i]==2:\n",
    "        arr[k],arr[i]=arr[i],arr[k]\n",
    "        k=k-1\n",
    "        #print(arr)\n",
    "    elif arr[i]==0:\n",
    "        arr[f],arr[i]=arr[i],arr[f]\n",
    "        f=f+1\n",
    "        #print(arr)\n",
    "    #p=p+1\n",
    "print(arr)"
   ]
  },
  {
   "cell_type": "code",
   "execution_count": 117,
   "id": "7fb55012",
   "metadata": {},
   "outputs": [
    {
     "name": "stdout",
     "output_type": "stream",
     "text": [
      "[1, 2]\n"
     ]
    }
   ],
   "source": [
    "s=12\n",
    "s=str(s)\n",
    "type(s)\n",
    "p=[]\n",
    "for i in s:\n",
    "    p.append(int(i))\n",
    "print(p)"
   ]
  },
  {
   "cell_type": "code",
   "execution_count": 145,
   "id": "527b841f",
   "metadata": {},
   "outputs": [
    {
     "name": "stdout",
     "output_type": "stream",
     "text": [
      "1290\n",
      "1\n",
      "2\n",
      "9\n",
      "0\n",
      "[1, 2, 9, 0]\n"
     ]
    }
   ],
   "source": [
    "arr1=[6,9,8]\n",
    "arr2=[5,9,2]\n",
    "n1=m1=0\n",
    "for i in arr1:\n",
    "    n1=(n1*10)+int(i)\n",
    "for i in arr2:\n",
    "    m1=(m1*10)+int(i)\n",
    "s=n1+m1\n",
    "print(str(s))\n",
    "arr3=[]\n",
    "for i in str(s):\n",
    "    print(i)\n",
    "    arr3.append(int(i))\n",
    "    k=k+1\n",
    "print(arr3)"
   ]
  },
  {
   "cell_type": "code",
   "execution_count": 142,
   "id": "7908568e",
   "metadata": {},
   "outputs": [],
   "source": [
    "arr1=[6,9,8]\n",
    "arr1[0]=2"
   ]
  },
  {
   "cell_type": "code",
   "execution_count": 143,
   "id": "137b954f",
   "metadata": {},
   "outputs": [
    {
     "data": {
      "text/plain": [
       "[2, 9, 8]"
      ]
     },
     "execution_count": 143,
     "metadata": {},
     "output_type": "execute_result"
    }
   ],
   "source": [
    "arr1"
   ]
  },
  {
   "cell_type": "code",
   "execution_count": 149,
   "id": "7a2209d9",
   "metadata": {},
   "outputs": [
    {
     "name": "stdout",
     "output_type": "stream",
     "text": [
      "[1, 2, 3, 0, 0]\n"
     ]
    }
   ],
   "source": [
    "a=[0,0,0,0,0]\n",
    "s=123\n",
    "k=0\n",
    "for i in str(s):\n",
    "    a[k]=int(i)\n",
    "    k=k+1\n",
    "print(a)"
   ]
  },
  {
   "cell_type": "code",
   "execution_count": 150,
   "id": "29352f1d",
   "metadata": {},
   "outputs": [
    {
     "name": "stdout",
     "output_type": "stream",
     "text": [
      "1 2 3\n",
      "3 4 5\n",
      "[1, 2, 3, 3, 4, 5]\n"
     ]
    }
   ],
   "source": [
    "a1=[int(a) for a in input().split()]\n",
    "a2=[int(a) for a in input().split()]\n",
    "l1,l2=len(a1),len(a2)\n",
    "a3=(max(len1,len2)+1)*[0]\n",
    "j=i=0\n",
    "while i<l1 and j<l2:\n",
    "    if a1[i]<a2[j]:\n",
    "        a3.append(a1[i])\n",
    "        i=i+1\n",
    "    else:\n",
    "        a3.append(a2[j])\n",
    "        j=j+1\n",
    "while i<l1:\n",
    "    a3.append(a1[i])\n",
    "    i=i+1\n",
    "while j<l2:\n",
    "    a3.append(a2[j])\n",
    "    j=j+1\n",
    "print(a3)"
   ]
  },
  {
   "cell_type": "code",
   "execution_count": 151,
   "id": "c19d241d",
   "metadata": {},
   "outputs": [
    {
     "data": {
      "text/plain": [
       "[0, 0, 0]"
      ]
     },
     "execution_count": 151,
     "metadata": {},
     "output_type": "execute_result"
    }
   ],
   "source": [
    "len1=2\n",
    "len2=3\n",
    "a3=max(len1,len2)*[0]\n",
    "a3"
   ]
  },
  {
   "cell_type": "code",
   "execution_count": 154,
   "id": "dbc68d02",
   "metadata": {},
   "outputs": [
    {
     "name": "stdout",
     "output_type": "stream",
     "text": [
      "1\n",
      "4\n",
      "1 2 3 4\n",
      "3\n",
      "1 2 3\n",
      "0 1 3 5 7\n",
      "\n"
     ]
    }
   ],
   "source": [
    "\n",
    "def sumArray(arr1,n,arr2,m,output):\n",
    "    i=n-1\n",
    "    j=m-1\n",
    "    carry=0\n",
    "    l=max(n,m)+1\n",
    "    while i>=0 and j>=0:\n",
    "        num=arr1[i]+arr2[j]+carry\n",
    "        s=num%10\n",
    "        carry=num//10\n",
    "        output[l-1]=s\n",
    "        l=l-1\n",
    "        i=i-1\n",
    "        j=j-1\n",
    "    while i>=0:\n",
    "        num=arr1[i]+carry\n",
    "        s=num%10\n",
    "        carry=num//10\n",
    "        output[l-1]=s\n",
    "        l=l-1\n",
    "        i=i-1\n",
    "    while j>=0:\n",
    "        num=arr2[j]+carry\n",
    "        s=num%10\n",
    "        carry=num//10\n",
    "        output[l-1]=s\n",
    "        l=l-1\n",
    "        j=j-1\n",
    "    if carry!=0:\n",
    "        output[0]=carry\n",
    "        \n",
    "    \n",
    "    \n",
    "t=int(input())\n",
    "for i in range(t):\n",
    "    n=int(input())\n",
    "    if n==0:\n",
    "        print(0)\n",
    "        break\n",
    "    arr1=[int(x) for x in input().split()]\n",
    "    m=int(input())\n",
    "    arr2=[int(x) for x in input().split()]\n",
    "    size=max(n,m)+1\n",
    "    output=[0 for i in range(size)]\n",
    "    sumArray(arr1,n,arr2,m,output)\n",
    "    print(*output)\n",
    "    print()"
   ]
  },
  {
   "cell_type": "code",
   "execution_count": null,
   "id": "1c225616",
   "metadata": {},
   "outputs": [],
   "source": []
  }
 ],
 "metadata": {
  "kernelspec": {
   "display_name": "Python 3 (ipykernel)",
   "language": "python",
   "name": "python3"
  },
  "language_info": {
   "codemirror_mode": {
    "name": "ipython",
    "version": 3
   },
   "file_extension": ".py",
   "mimetype": "text/x-python",
   "name": "python",
   "nbconvert_exporter": "python",
   "pygments_lexer": "ipython3",
   "version": "3.9.7"
  }
 },
 "nbformat": 4,
 "nbformat_minor": 5
}
