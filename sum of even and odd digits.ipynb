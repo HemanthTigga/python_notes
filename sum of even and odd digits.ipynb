{
 "cells": [
  {
   "cell_type": "code",
   "execution_count": 3,
   "id": "eb6b5f53",
   "metadata": {},
   "outputs": [
    {
     "name": "stdout",
     "output_type": "stream",
     "text": [
      "114523\n",
      "6 10\n"
     ]
    }
   ],
   "source": [
    "n=int(input())\n",
    "se=0\n",
    "so=0\n",
    "while n>0:\n",
    "    d=n%10\n",
    "    if d%2==0:\n",
    "        se=se+d\n",
    "    else:\n",
    "        so=so+d\n",
    "    n=n//10\n",
    "print(se,so)"
   ]
  },
  {
   "cell_type": "code",
   "execution_count": null,
   "id": "22b47752",
   "metadata": {},
   "outputs": [],
   "source": []
  }
 ],
 "metadata": {
  "kernelspec": {
   "display_name": "Python 3 (ipykernel)",
   "language": "python",
   "name": "python3"
  },
  "language_info": {
   "codemirror_mode": {
    "name": "ipython",
    "version": 3
   },
   "file_extension": ".py",
   "mimetype": "text/x-python",
   "name": "python",
   "nbconvert_exporter": "python",
   "pygments_lexer": "ipython3",
   "version": "3.9.7"
  }
 },
 "nbformat": 4,
 "nbformat_minor": 5
}
