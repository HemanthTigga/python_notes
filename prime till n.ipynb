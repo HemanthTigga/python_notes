{
 "cells": [
  {
   "cell_type": "code",
   "execution_count": 7,
   "id": "e67a0415",
   "metadata": {},
   "outputs": [
    {
     "name": "stdout",
     "output_type": "stream",
     "text": [
      "10\n",
      "2\n",
      "3\n",
      "5\n",
      "7\n"
     ]
    }
   ],
   "source": [
    "n=int(input())\n",
    "pp=0\n",
    "c=2\n",
    "p=1\n",
    "while c<=n:\n",
    "    while p<=c:\n",
    "        if c%p==0:\n",
    "            pp=pp+1\n",
    "        p=p+1\n",
    "    if pp==2:\n",
    "        print(c)\n",
    "    c=c+1\n",
    "    pp=0\n",
    "    p=1"
   ]
  },
  {
   "cell_type": "code",
   "execution_count": null,
   "id": "07c96deb",
   "metadata": {},
   "outputs": [],
   "source": []
  }
 ],
 "metadata": {
  "kernelspec": {
   "display_name": "Python 3 (ipykernel)",
   "language": "python",
   "name": "python3"
  },
  "language_info": {
   "codemirror_mode": {
    "name": "ipython",
    "version": 3
   },
   "file_extension": ".py",
   "mimetype": "text/x-python",
   "name": "python",
   "nbconvert_exporter": "python",
   "pygments_lexer": "ipython3",
   "version": "3.9.7"
  }
 },
 "nbformat": 4,
 "nbformat_minor": 5
}
