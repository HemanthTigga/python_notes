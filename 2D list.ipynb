{
 "cells": [
  {
   "cell_type": "code",
   "execution_count": 13,
   "id": "d25a62b3",
   "metadata": {},
   "outputs": [],
   "source": [
    "#size=m*n\n",
    "#normal 2D list\n",
    "a=[[1,2,3],[6,6,7],[85,8,87]]"
   ]
  },
  {
   "cell_type": "code",
   "execution_count": 14,
   "id": "cf4820d9",
   "metadata": {},
   "outputs": [
    {
     "name": "stdout",
     "output_type": "stream",
     "text": [
      "[1, 2, 3]\n",
      "[6, 6, 7]\n",
      "[85, 8, 87]\n"
     ]
    }
   ],
   "source": [
    "for i in a:\n",
    "    print(i)"
   ]
  },
  {
   "cell_type": "code",
   "execution_count": 15,
   "id": "4aeb0fd3",
   "metadata": {},
   "outputs": [],
   "source": [
    "#size!=m*n\n",
    "#jagged list\n",
    "a=[[1,2,3,4],[6,6,7],[85,8]]"
   ]
  },
  {
   "cell_type": "code",
   "execution_count": 16,
   "id": "62ed9a9d",
   "metadata": {},
   "outputs": [
    {
     "name": "stdout",
     "output_type": "stream",
     "text": [
      "[1, 2, 3, 4]\n",
      "[6, 6, 7]\n",
      "[85, 8]\n"
     ]
    }
   ],
   "source": [
    "for i in a:\n",
    "    print(i)"
   ]
  },
  {
   "cell_type": "code",
   "execution_count": 2,
   "id": "c77e68b3",
   "metadata": {},
   "outputs": [
    {
     "data": {
      "text/plain": [
       "[2, 4, 6]"
      ]
     },
     "execution_count": 2,
     "metadata": {},
     "output_type": "execute_result"
    }
   ],
   "source": [
    "a=[1,2,3,4,5,6]\n",
    "a1=[i for i in a if i%2==0]\n",
    "a1"
   ]
  },
  {
   "cell_type": "code",
   "execution_count": 16,
   "id": "203f63b2",
   "metadata": {},
   "outputs": [
    {
     "name": "stdout",
     "output_type": "stream",
     "text": [
      " 1 2 3 45 \n",
      "2 3 5\n",
      "[2, 3]\n"
     ]
    }
   ],
   "source": [
    "l1=[int(ele) for ele in input().split()]\n",
    "l2=[int(ele) for ele in input().split()]\n",
    "l_inter=[ele for ele in l1 for ele2 in l2 if ele==ele2]\n",
    "print(l_inter)"
   ]
  },
  {
   "cell_type": "code",
   "execution_count": 22,
   "id": "75a592fd",
   "metadata": {},
   "outputs": [
    {
     "name": "stdout",
     "output_type": "stream",
     "text": [
      "1 2 2 1 5   5 4 5 65 45     5 4 44  \n"
     ]
    },
    {
     "data": {
      "text/plain": [
       "[1, 4, 4, 1, 5, 5, 16, 5, 65, 45, 5, 16, 1936]"
      ]
     },
     "execution_count": 22,
     "metadata": {},
     "output_type": "execute_result"
    }
   ],
   "source": [
    "l=[int(ele) for ele in input().split()]\n",
    "l1=[ele**2 if ele%2==0 else ele for ele in l]\n",
    "l1"
   ]
  },
  {
   "cell_type": "code",
   "execution_count": 34,
   "id": "6c83d56e",
   "metadata": {},
   "outputs": [
    {
     "name": "stdout",
     "output_type": "stream",
     "text": [
      "hemanthtiggafbsdfjdfjk\n",
      "f\n"
     ]
    }
   ],
   "source": [
    "def get_max_occuring(str):\n",
    "    ctr=[0]*256\n",
    "    max=-1\n",
    "    ch=''\n",
    "    for i in str:\n",
    "        ctr[ord(i)]+=1\n",
    "    for i in str:\n",
    "        if max<ctr[ord(i)]:\n",
    "            max=ctr[ord(i)]\n",
    "            ch=i\n",
    "    return ch\n",
    "\n",
    "print(get_max_occuring(input()))"
   ]
  },
  {
   "cell_type": "code",
   "execution_count": 45,
   "id": "08a0981b",
   "metadata": {},
   "outputs": [
    {
     "name": "stdout",
     "output_type": "stream",
     "text": [
      "5\n",
      "4\n",
      "6\n",
      "4\n",
      "56\n",
      "4\n",
      "5\n",
      "4\n",
      "64\n"
     ]
    }
   ],
   "source": [
    "n=3\n",
    "m=3\n",
    "a=[[int(input()) for j in range(m)] for i in range(n)]"
   ]
  },
  {
   "cell_type": "code",
   "execution_count": 46,
   "id": "ceec1830",
   "metadata": {},
   "outputs": [
    {
     "data": {
      "text/plain": [
       "[[5, 4, 6], [4, 56, 4], [5, 4, 64]]"
      ]
     },
     "execution_count": 46,
     "metadata": {},
     "output_type": "execute_result"
    }
   ],
   "source": [
    "a"
   ]
  },
  {
   "cell_type": "code",
   "execution_count": 42,
   "id": "b4ae2800",
   "metadata": {},
   "outputs": [
    {
     "name": "stdout",
     "output_type": "stream",
     "text": [
      "4\n",
      "4\n",
      "5\n",
      "5\n",
      "5\n",
      "5\n",
      "5\n",
      "5\n",
      "5\n",
      "5\n",
      "4\n",
      "5\n"
     ]
    }
   ],
   "source": [
    "li = [[ int(input()) for j in range(4)] for i in range(3)]"
   ]
  },
  {
   "cell_type": "code",
   "execution_count": 43,
   "id": "8fa1cc87",
   "metadata": {},
   "outputs": [
    {
     "data": {
      "text/plain": [
       "[[4, 4, 5, 5], [5, 5, 5, 5], [5, 5, 4, 5]]"
      ]
     },
     "execution_count": 43,
     "metadata": {},
     "output_type": "execute_result"
    }
   ],
   "source": [
    "li"
   ]
  },
  {
   "cell_type": "markdown",
   "id": "8321bba3",
   "metadata": {},
   "source": [
    "# Types of taking input"
   ]
  },
  {
   "cell_type": "code",
   "execution_count": 3,
   "id": "986cf498",
   "metadata": {},
   "outputs": [
    {
     "name": "stdout",
     "output_type": "stream",
     "text": [
      "2 4\n",
      "7 8 9 9 96\n",
      " 78 9 8 \n"
     ]
    }
   ],
   "source": [
    "str=input().split()\n",
    "n,m=int(str[0]),int(str[1])\n",
    "li=[[int(j) for j in input().split()] for i in range(n)]"
   ]
  },
  {
   "cell_type": "code",
   "execution_count": 4,
   "id": "f6c7619c",
   "metadata": {},
   "outputs": [
    {
     "data": {
      "text/plain": [
       "[[7, 8, 9, 9, 96], [78, 9, 8]]"
      ]
     },
     "execution_count": 4,
     "metadata": {},
     "output_type": "execute_result"
    }
   ],
   "source": [
    "li"
   ]
  },
  {
   "cell_type": "code",
   "execution_count": 115,
   "id": "05b7e849",
   "metadata": {},
   "outputs": [
    {
     "name": "stdout",
     "output_type": "stream",
     "text": [
      "4\n",
      "5 4  5\n",
      "5 8 5\n",
      "1 2 3\n",
      "4 5 6 \n"
     ]
    }
   ],
   "source": [
    "#str=input().split()\n",
    "n=int(input())\n",
    "li=[[int(j) for j in input().split()] for i in range(n)]"
   ]
  },
  {
   "cell_type": "code",
   "execution_count": 116,
   "id": "42b10525",
   "metadata": {},
   "outputs": [
    {
     "data": {
      "text/plain": [
       "[[5, 4, 5], [5, 8, 5], [1, 2, 3], [4, 5, 6]]"
      ]
     },
     "execution_count": 116,
     "metadata": {},
     "output_type": "execute_result"
    }
   ],
   "source": [
    "li"
   ]
  },
  {
   "cell_type": "code",
   "execution_count": 105,
   "id": "a6463d32",
   "metadata": {},
   "outputs": [
    {
     "name": "stdout",
     "output_type": "stream",
     "text": [
      "2 4\n",
      "1 2 3 4 5 6 7 8 9 1 0 1 12 \n"
     ]
    }
   ],
   "source": [
    "str1=input().split()\n",
    "n,m=int(str1[0]),int(str1[1])\n",
    "b=input().split()\n",
    "arr=[ [ int(b[m*i+j]) for j in range(m)] for i in range(n)]"
   ]
  },
  {
   "cell_type": "code",
   "execution_count": 17,
   "id": "1f152e3f",
   "metadata": {},
   "outputs": [
    {
     "data": {
      "text/plain": [
       "[[1, 2, 3, 4], [5, 6, 7, 8], [9, 10, 11, 12]]"
      ]
     },
     "execution_count": 17,
     "metadata": {},
     "output_type": "execute_result"
    }
   ],
   "source": [
    "arr"
   ]
  },
  {
   "cell_type": "code",
   "execution_count": 20,
   "id": "cb4340d8",
   "metadata": {},
   "outputs": [
    {
     "name": "stdout",
     "output_type": "stream",
     "text": [
      "3 4 1 2 3 4 5 6 7 8 9 10 11 12 \n"
     ]
    }
   ],
   "source": [
    "str=input().split()\n",
    "n,m=int(str[0]),int(str[1])\n",
    "b=str[2:]\n",
    "arr=[ [ int(b[m*i+j]) for j in range(m)] for i in range(n)]"
   ]
  },
  {
   "cell_type": "code",
   "execution_count": 21,
   "id": "306e4b64",
   "metadata": {},
   "outputs": [
    {
     "data": {
      "text/plain": [
       "[[1, 2, 3, 4], [5, 6, 7, 8], [9, 10, 11, 12]]"
      ]
     },
     "execution_count": 21,
     "metadata": {},
     "output_type": "execute_result"
    }
   ],
   "source": [
    "arr"
   ]
  },
  {
   "cell_type": "markdown",
   "id": "451c765b",
   "metadata": {},
   "source": [
    "# Types of printing 2D list"
   ]
  },
  {
   "cell_type": "code",
   "execution_count": 47,
   "id": "bf4e5800",
   "metadata": {},
   "outputs": [],
   "source": [
    "arr=[[1, 2, 3, 4], [5, 6, 7, 8], [9, 10, 11,12]]"
   ]
  },
  {
   "cell_type": "code",
   "execution_count": 48,
   "id": "37e27232",
   "metadata": {},
   "outputs": [
    {
     "name": "stdout",
     "output_type": "stream",
     "text": [
      "[[1, 2, 3, 4], [5, 6, 7, 8], [9, 10, 11, 12]]\n"
     ]
    }
   ],
   "source": [
    "print([ [ arr[i][j] for j in range(m)] for i in range(n)])"
   ]
  },
  {
   "cell_type": "code",
   "execution_count": 49,
   "id": "56803ba2",
   "metadata": {},
   "outputs": [
    {
     "name": "stdout",
     "output_type": "stream",
     "text": [
      "1 2 3 4 \n",
      "5 6 7 8 \n",
      "9 10 11 12 \n"
     ]
    }
   ],
   "source": [
    "for i in range(n):\n",
    "    for j in range(m):\n",
    "        print(arr[i][j],end=\" \")\n",
    "    print()"
   ]
  },
  {
   "cell_type": "code",
   "execution_count": 51,
   "id": "4238ff17",
   "metadata": {},
   "outputs": [
    {
     "name": "stdout",
     "output_type": "stream",
     "text": [
      "[1, 2, 3, 4]\n",
      "[5, 6, 7, 8]\n",
      "[9, 10, 11, 12]\n"
     ]
    }
   ],
   "source": [
    "for i in range(n):\n",
    "    print(arr[i])"
   ]
  },
  {
   "cell_type": "markdown",
   "id": "ab290da5",
   "metadata": {},
   "source": [
    "# Also can be used for Jagged list"
   ]
  },
  {
   "cell_type": "code",
   "execution_count": 66,
   "id": "08828f52",
   "metadata": {},
   "outputs": [
    {
     "name": "stdout",
     "output_type": "stream",
     "text": [
      "[1, 2, 3, 4]\n",
      "[5, 6, 8]\n",
      "[9, 10, 11, 12, 5, 6]\n"
     ]
    }
   ],
   "source": [
    "arr=[[1, 2, 3, 4], [5, 6, 8], [9, 10, 11,12,5,6]]\n",
    "for i in range(n):\n",
    "    print(arr[i])"
   ]
  },
  {
   "cell_type": "code",
   "execution_count": 60,
   "id": "fdb628fe",
   "metadata": {},
   "outputs": [
    {
     "name": "stdout",
     "output_type": "stream",
     "text": [
      "[1, 2, 3, 4]\n",
      "[5, 6, 8]\n",
      "[9, 10, 11, 12, 5, 6]\n"
     ]
    }
   ],
   "source": [
    "#printing one list at a time\n",
    "for i in arr:\n",
    "    print(i)"
   ]
  },
  {
   "cell_type": "code",
   "execution_count": 61,
   "id": "26d98b7d",
   "metadata": {},
   "outputs": [
    {
     "name": "stdout",
     "output_type": "stream",
     "text": [
      "1 2 3 4 \n",
      "5 6 8 \n",
      "9 10 11 12 5 6 \n"
     ]
    }
   ],
   "source": [
    "#printing one element at a time\n",
    "for i in arr:\n",
    "    for j in i:\n",
    "        print(j,end=\" \")\n",
    "    print()"
   ]
  },
  {
   "cell_type": "markdown",
   "id": "1a35b3fe",
   "metadata": {},
   "source": [
    "___"
   ]
  },
  {
   "cell_type": "markdown",
   "id": "662454bf",
   "metadata": {},
   "source": [
    "# Note"
   ]
  },
  {
   "cell_type": "code",
   "execution_count": 63,
   "id": "ca13ab39",
   "metadata": {},
   "outputs": [
    {
     "data": {
      "text/plain": [
       "'aabbabcabd'"
      ]
     },
     "execution_count": 63,
     "metadata": {},
     "output_type": "execute_result"
    }
   ],
   "source": [
    "'ab'.join(\"abcd\")"
   ]
  },
  {
   "cell_type": "code",
   "execution_count": 65,
   "id": "dba5d9db",
   "metadata": {},
   "outputs": [
    {
     "data": {
      "text/plain": [
       "'1ab2ab3'"
      ]
     },
     "execution_count": 65,
     "metadata": {},
     "output_type": "execute_result"
    }
   ],
   "source": [
    "'ab'.join(['1','2','3'])"
   ]
  },
  {
   "cell_type": "code",
   "execution_count": null,
   "id": "8ae74785",
   "metadata": {},
   "outputs": [],
   "source": []
  },
  {
   "cell_type": "code",
   "execution_count": 125,
   "id": "63e11ac5",
   "metadata": {},
   "outputs": [
    {
     "name": "stdout",
     "output_type": "stream",
     "text": [
      "2 3\n",
      "1 2 4 5 3 2 \n",
      " 5  5  4 2  4 \n"
     ]
    }
   ],
   "source": [
    "#sum of each list in 2d\n",
    "str=input().split()\n",
    "n,m=int(str[0]),int(str[1])\n",
    "s=0\n",
    "l1=[]\n",
    "li=[[int(j) for j in input().split()] for i in range(n)]\n",
    "for i in li:\n",
    "    for j in i:\n",
    "        s=s+j\n",
    "    l1.append(s)\n",
    "    s=0"
   ]
  },
  {
   "cell_type": "code",
   "execution_count": 126,
   "id": "e7987d88",
   "metadata": {},
   "outputs": [
    {
     "data": {
      "text/plain": [
       "[17, 20]"
      ]
     },
     "execution_count": 126,
     "metadata": {},
     "output_type": "execute_result"
    }
   ],
   "source": [
    "l1"
   ]
  },
  {
   "cell_type": "code",
   "execution_count": 142,
   "id": "49bf37f6",
   "metadata": {},
   "outputs": [
    {
     "name": "stdout",
     "output_type": "stream",
     "text": [
      "2 3\n",
      "1 2 3\n",
      "4 5 6\n"
     ]
    }
   ],
   "source": [
    "#largest column sum\n",
    "str=input().split()\n",
    "n,m=int(str[0]),int(str[1])\n",
    "s=j1=0\n",
    "l1=[]\n",
    "li=[[int(j) for j in input().split()] for i in range(n)]\n",
    "m=len(li[0])\n",
    "for i in range(m):\n",
    "    for j in range(n):\n",
    "        s=s+li[j][i]\n",
    "    l1.append(s)\n",
    "    s=j1=0\n",
    "maximum=max(l1)"
   ]
  },
  {
   "cell_type": "code",
   "execution_count": 143,
   "id": "39c94d3a",
   "metadata": {},
   "outputs": [
    {
     "data": {
      "text/plain": [
       "[5, 7, 9]"
      ]
     },
     "execution_count": 143,
     "metadata": {},
     "output_type": "execute_result"
    }
   ],
   "source": [
    "l1"
   ]
  },
  {
   "cell_type": "code",
   "execution_count": 144,
   "id": "ab146744",
   "metadata": {},
   "outputs": [
    {
     "data": {
      "text/plain": [
       "2"
      ]
     },
     "execution_count": 144,
     "metadata": {},
     "output_type": "execute_result"
    }
   ],
   "source": [
    "l1.index(maximum)"
   ]
  },
  {
   "cell_type": "code",
   "execution_count": 147,
   "id": "b7dd0282",
   "metadata": {},
   "outputs": [
    {
     "name": "stdout",
     "output_type": "stream",
     "text": [
      "2 3\n",
      "1 2 3 4\n",
      "4 5 6\n"
     ]
    },
    {
     "ename": "IndexError",
     "evalue": "list index out of range",
     "output_type": "error",
     "traceback": [
      "\u001b[1;31m---------------------------------------------------------------------------\u001b[0m",
      "\u001b[1;31mIndexError\u001b[0m                                Traceback (most recent call last)",
      "\u001b[1;32m~\\AppData\\Local\\Temp/ipykernel_48236/1190854449.py\u001b[0m in \u001b[0;36m<module>\u001b[1;34m\u001b[0m\n\u001b[0;32m      9\u001b[0m     \u001b[0ms\u001b[0m\u001b[1;33m=\u001b[0m\u001b[1;36m0\u001b[0m\u001b[1;33m\u001b[0m\u001b[1;33m\u001b[0m\u001b[0m\n\u001b[0;32m     10\u001b[0m     \u001b[1;32mfor\u001b[0m \u001b[0mj\u001b[0m \u001b[1;32min\u001b[0m \u001b[0mrange\u001b[0m\u001b[1;33m(\u001b[0m\u001b[0mn\u001b[0m\u001b[1;33m)\u001b[0m\u001b[1;33m:\u001b[0m\u001b[1;33m\u001b[0m\u001b[1;33m\u001b[0m\u001b[0m\n\u001b[1;32m---> 11\u001b[1;33m         \u001b[0ms\u001b[0m\u001b[1;33m=\u001b[0m\u001b[0ms\u001b[0m\u001b[1;33m+\u001b[0m\u001b[0mli\u001b[0m\u001b[1;33m[\u001b[0m\u001b[0mj\u001b[0m\u001b[1;33m]\u001b[0m\u001b[1;33m[\u001b[0m\u001b[0mi\u001b[0m\u001b[1;33m]\u001b[0m\u001b[1;33m\u001b[0m\u001b[1;33m\u001b[0m\u001b[0m\n\u001b[0m\u001b[0;32m     12\u001b[0m     \u001b[1;32mif\u001b[0m \u001b[0ms\u001b[0m\u001b[1;33m>=\u001b[0m\u001b[0mmaximum\u001b[0m\u001b[1;33m:\u001b[0m\u001b[1;33m\u001b[0m\u001b[1;33m\u001b[0m\u001b[0m\n\u001b[0;32m     13\u001b[0m         \u001b[0mmaximum\u001b[0m\u001b[1;33m=\u001b[0m\u001b[0ms\u001b[0m\u001b[1;33m\u001b[0m\u001b[1;33m\u001b[0m\u001b[0m\n",
      "\u001b[1;31mIndexError\u001b[0m: list index out of range"
     ]
    }
   ],
   "source": [
    "#largest column sum\n",
    "str=input().split()\n",
    "n,m=int(str[0]),int(str[1])\n",
    "s=j1=0\n",
    "l1=[]\n",
    "li=[[int(j) for j in input().split()] for i in range(n)]\n",
    "m=len(li[0])\n",
    "for i in range(m):\n",
    "    s=0\n",
    "    for j in range(n):\n",
    "        s=s+li[j][i]\n",
    "    if s>=maximum:\n",
    "        maximum=s\n",
    "        index=i\n",
    "index"
   ]
  },
  {
   "cell_type": "code",
   "execution_count": 154,
   "id": "c83f7d24",
   "metadata": {},
   "outputs": [
    {
     "name": "stdout",
     "output_type": "stream",
     "text": [
      "2 3\n",
      "1 2 3 4\n",
      "4 5 6\n"
     ]
    },
    {
     "ename": "IndexError",
     "evalue": "list index out of range",
     "output_type": "error",
     "traceback": [
      "\u001b[1;31m---------------------------------------------------------------------------\u001b[0m",
      "\u001b[1;31mIndexError\u001b[0m                                Traceback (most recent call last)",
      "\u001b[1;32m~\\AppData\\Local\\Temp/ipykernel_48236/3735339751.py\u001b[0m in \u001b[0;36m<module>\u001b[1;34m\u001b[0m\n\u001b[0;32m     10\u001b[0m     \u001b[1;32mfor\u001b[0m \u001b[0mj\u001b[0m \u001b[1;32min\u001b[0m \u001b[0mli\u001b[0m\u001b[1;33m:\u001b[0m\u001b[1;33m\u001b[0m\u001b[1;33m\u001b[0m\u001b[0m\n\u001b[0;32m     11\u001b[0m         \u001b[1;31m#print(j)\u001b[0m\u001b[1;33m\u001b[0m\u001b[1;33m\u001b[0m\u001b[0m\n\u001b[1;32m---> 12\u001b[1;33m         \u001b[0ms\u001b[0m\u001b[1;33m=\u001b[0m\u001b[0ms\u001b[0m\u001b[1;33m+\u001b[0m\u001b[0mj\u001b[0m\u001b[1;33m[\u001b[0m\u001b[0mi\u001b[0m\u001b[1;33m]\u001b[0m\u001b[1;33m\u001b[0m\u001b[1;33m\u001b[0m\u001b[0m\n\u001b[0m\u001b[0;32m     13\u001b[0m     \u001b[1;32mif\u001b[0m \u001b[0ms\u001b[0m\u001b[1;33m>=\u001b[0m\u001b[0mmaximum\u001b[0m\u001b[1;33m:\u001b[0m\u001b[1;33m\u001b[0m\u001b[1;33m\u001b[0m\u001b[0m\n\u001b[0;32m     14\u001b[0m         \u001b[0mmaximum\u001b[0m\u001b[1;33m=\u001b[0m\u001b[0ms\u001b[0m\u001b[1;33m\u001b[0m\u001b[1;33m\u001b[0m\u001b[0m\n",
      "\u001b[1;31mIndexError\u001b[0m: list index out of range"
     ]
    }
   ],
   "source": [
    "#largest column sum\n",
    "str=input().split()\n",
    "n,m=int(str[0]),int(str[1])\n",
    "s=j1=0\n",
    "l1=[]\n",
    "li=[[int(j) for j in input().split()] for i in range(n)]\n",
    "m=len(li[0])\n",
    "for i in range(m):\n",
    "    s=0\n",
    "    for j in li:\n",
    "        #print(j)\n",
    "        s=s+j[i]\n",
    "    if s>=maximum:\n",
    "        maximum=s\n",
    "        index=i\n",
    "index"
   ]
  },
  {
   "cell_type": "code",
   "execution_count": 156,
   "id": "4183cdf3",
   "metadata": {},
   "outputs": [
    {
     "name": "stdout",
     "output_type": "stream",
     "text": [
      "1 5 9 2 6 10 3 7 11 4 8 12 "
     ]
    }
   ],
   "source": [
    "li=[[1,2,3,4],[5,6,7,8],[9,10,11,12]]\n",
    "for j in range(4):\n",
    "    for ele in li:\n",
    "        print(ele[j],end =\" \")"
   ]
  },
  {
   "cell_type": "code",
   "execution_count": 15,
   "id": "1f69a164",
   "metadata": {},
   "outputs": [
    {
     "name": "stdout",
     "output_type": "stream",
     "text": [
      "3 3\n",
      "3 6 9\n",
      "1 4 7\n",
      "2 8 9\n",
      "m 3\n",
      "column 2\n"
     ]
    }
   ],
   "source": [
    "str=input().split()\n",
    "n,m=int(str[0]),int(str[1])\n",
    "s=maxi=0\n",
    "l1=[]\n",
    "li=[[int(j) for j in input().split()] for i in range(n)]\n",
    "for i in range(len(li)):\n",
    "    for j in li[i]:\n",
    "        s=s+j\n",
    "    if s>=maxi:\n",
    "        maxi=s\n",
    "        index=i\n",
    "        name=\"row\"\n",
    "    s=0\n",
    "m=len(li[0])\n",
    "#print(\"m\",m)\n",
    "s=0\n",
    "#print(maxi,\" \",index)\n",
    "for i in range(m):\n",
    "    s=0\n",
    "    for j in li:\n",
    "        #print(j)\n",
    "        s=s+j[i]\n",
    "    if s>=maxi:\n",
    "        maxi=s\n",
    "        index=i\n",
    "        name=\"column\"\n",
    "print(name,index)"
   ]
  },
  {
   "cell_type": "code",
   "execution_count": 12,
   "id": "f4c49990",
   "metadata": {},
   "outputs": [
    {
     "name": "stdout",
     "output_type": "stream",
     "text": [
      "3 4\n",
      "4 6 4 65 4\n",
      "44 5 4 5 6 6\n",
      "5 4 4 21 8 5 5\n",
      "4\t6\t4\t65\t4\t\n",
      "44\t5\t4\t5\t6\t6\t\n",
      "5\t4\t4\t21\t8\t5\t5\t\n",
      "column 3 91\n"
     ]
    }
   ],
   "source": [
    "def findLargest(li, nRows, mCols):\n",
    "    #Your code goes here\n",
    "    index=s=0\n",
    "    maxi=-2147483648\n",
    "    if nRows!=0 and mCols!=0:\n",
    "        for i in range(len(li)):\n",
    "            for j in li[i]:\n",
    "                s=s+j\n",
    "            if s>maxi:\n",
    "                maxi=s\n",
    "                index=i\n",
    "                name=\"row\"\n",
    "            s=0\n",
    "        m=len(li[0])\n",
    "        s=0\n",
    "        for i in range(m):\n",
    "            s=0\n",
    "            for j in li:\n",
    "                s=s+j[i]\n",
    "            if s>maxi:\n",
    "                maxi=s\n",
    "                index=i\n",
    "                name=\"column\"\n",
    "            \n",
    "        print(name,index,maxi)\n",
    "    else:\n",
    "        print(\"row 0 -2147483648\")\n",
    "     \n",
    "str=input().split()\n",
    "n,m=int(str[0]),int(str[1])\n",
    "li=[[int(j) for j in input().split()] for i in range(n)]\n",
    "for i in li:\n",
    "    for j in i:\n",
    "        print(j,end='\\t')\n",
    "    print()\n",
    "findLargest(li,n,m)"
   ]
  },
  {
   "cell_type": "markdown",
   "id": "48d0058d",
   "metadata": {},
   "source": [
    "# Wave Print"
   ]
  },
  {
   "cell_type": "code",
   "execution_count": 28,
   "id": "9ddbc334",
   "metadata": {},
   "outputs": [
    {
     "name": "stdout",
     "output_type": "stream",
     "text": [
      "3\n",
      "1 2 3 4\n",
      "5 6 7 8\n",
      "9 10 11 12\n",
      "1 5 9 10 6 2 3 7 11 12 8 4 "
     ]
    }
   ],
   "source": [
    "n=int(input())\n",
    "li=[[int(j) for j in input().split()] for i in range(n)]\n",
    "m=len(li[0])\n",
    "k=1\n",
    "li1=list(reversed(li))\n",
    "for j in range(m):\n",
    "    if j%2==0:\n",
    "        for i in li:\n",
    "            print(i[j],end=' ')\n",
    "    else:\n",
    "        for i in li1:\n",
    "            print(i[j],end=' ')"
   ]
  },
  {
   "cell_type": "code",
   "execution_count": 29,
   "id": "3871bb8f",
   "metadata": {},
   "outputs": [
    {
     "data": {
      "text/plain": [
       "[[9, 10, 11, 12], [5, 6, 7, 8], [1, 2, 3, 4]]"
      ]
     },
     "execution_count": 29,
     "metadata": {},
     "output_type": "execute_result"
    }
   ],
   "source": [
    "li1"
   ]
  },
  {
   "cell_type": "markdown",
   "id": "fba16f5b",
   "metadata": {},
   "source": [
    "# Spiral Print"
   ]
  },
  {
   "cell_type": "code",
   "execution_count": 33,
   "id": "84cdf01d",
   "metadata": {},
   "outputs": [
    {
     "name": "stdout",
     "output_type": "stream",
     "text": [
      "3\n",
      "1 2 3\n",
      "4 5 6\n",
      "7 8 9\n",
      "1 2 3 1 2 3 7 8 9 "
     ]
    }
   ],
   "source": [
    "#Not Working\n",
    "n=int(input())\n",
    "k=n-1\n",
    "rc=0\n",
    "li=[[int(j) for j in input().split()] for i in range(n)]\n",
    "m=len(li[0])\n",
    "k=1\n",
    "ra1=0\n",
    "k1=0\n",
    "p1=0\n",
    "for i in li:\n",
    "    if rc%2==0:\n",
    "        if ra1%2==0:\n",
    "            for j in i:\n",
    "                print(j,end=' ')\n",
    "            \n",
    "        else:\n",
    "            for j in range(len(li1)):\n",
    "                for j1 in j:\n",
    "                    print(j[k1],end=' ')\n",
    "                    k1-=1\n",
    "                \n",
    "        rc+=1\n",
    "    else:\n",
    "        for j in li[p1]:\n",
    "            print(j,end=' ')\n",
    "            rc+=1\n",
    "        p1=p1+1"
   ]
  },
  {
   "cell_type": "code",
   "execution_count": 1,
   "id": "9b43a7c5",
   "metadata": {},
   "outputs": [
    {
     "name": "stdout",
     "output_type": "stream",
     "text": [
      "5\n",
      "1 2 3 4 5\n",
      "5 6 4 1 5\n",
      "7 8 9 5 5\n",
      "4 6 6 2 5\n",
      "8 5 2 6 9\n",
      "1 2 3 4 5 5 5 5 9 6 2 5 8 4 7 5 6 4 1 5 2 6 6 8 9 "
     ]
    }
   ],
   "source": [
    "#Working code\n",
    "nRows=int(input())\n",
    "mat=[[int(j) for j in input().split()] for i in range(nRows)]\n",
    "mCols=len(mat[0])\n",
    "loop=nRows\n",
    "if loop%2!=0:\n",
    "    loop+=1\n",
    "#print(k)\n",
    "for i in range(loop//2):\n",
    "    for j in range(i,mCols-i):\n",
    "        print(mat[i][j],end=\" \")\n",
    "    for k in range(1+i,nRows-i):\n",
    "        print(mat[k][j],end=\" \")\n",
    "    for l in range(mCols-2-i,-1+i,-1):\n",
    "        print(mat[k][l],end=\" \")\n",
    "    for p in range(nRows-2-i,0+i,-1):\n",
    "        print(mat[p][l],end=\" \")"
   ]
  },
  {
   "cell_type": "code",
   "execution_count": 39,
   "id": "4db3e34d",
   "metadata": {},
   "outputs": [
    {
     "data": {
      "text/plain": [
       "2"
      ]
     },
     "execution_count": 39,
     "metadata": {},
     "output_type": "execute_result"
    }
   ],
   "source": [
    "k"
   ]
  },
  {
   "cell_type": "code",
   "execution_count": null,
   "id": "192870d1",
   "metadata": {},
   "outputs": [],
   "source": []
  }
 ],
 "metadata": {
  "kernelspec": {
   "display_name": "Python 3 (ipykernel)",
   "language": "python",
   "name": "python3"
  },
  "language_info": {
   "codemirror_mode": {
    "name": "ipython",
    "version": 3
   },
   "file_extension": ".py",
   "mimetype": "text/x-python",
   "name": "python",
   "nbconvert_exporter": "python",
   "pygments_lexer": "ipython3",
   "version": "3.9.7"
  }
 },
 "nbformat": 4,
 "nbformat_minor": 5
}
