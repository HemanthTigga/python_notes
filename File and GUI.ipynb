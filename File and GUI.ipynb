{
 "cells": [
  {
   "cell_type": "code",
   "execution_count": 47,
   "id": "3e186ff4",
   "metadata": {},
   "outputs": [],
   "source": [
    "f = open(\"C:/Users/hp/Desktop/test.txt\",'w')"
   ]
  },
  {
   "cell_type": "code",
   "execution_count": 48,
   "id": "b228cd94",
   "metadata": {},
   "outputs": [],
   "source": [
    "f.write(\"my first file\\n\")\n",
    "f.write(\"This file\\n\\n\")\n",
    "f.write(\"contains three lines\\n\")\n",
    "f.close()"
   ]
  },
  {
   "cell_type": "code",
   "execution_count": 49,
   "id": "adcbd348",
   "metadata": {},
   "outputs": [],
   "source": [
    "f=open(\"C:/Users/hp/Desktop/test.txt\",'r')"
   ]
  },
  {
   "cell_type": "code",
   "execution_count": 50,
   "id": "ecefcf31",
   "metadata": {},
   "outputs": [
    {
     "data": {
      "text/plain": [
       "'my first file\\nThis file\\n\\ncontains three lines\\n'"
      ]
     },
     "execution_count": 50,
     "metadata": {},
     "output_type": "execute_result"
    }
   ],
   "source": [
    "f.read()"
   ]
  },
  {
   "cell_type": "code",
   "execution_count": 51,
   "id": "b23fa6a2",
   "metadata": {},
   "outputs": [
    {
     "data": {
      "text/plain": [
       "50"
      ]
     },
     "execution_count": 51,
     "metadata": {},
     "output_type": "execute_result"
    }
   ],
   "source": [
    "f.tell()"
   ]
  },
  {
   "cell_type": "code",
   "execution_count": 52,
   "id": "3265b7fd",
   "metadata": {},
   "outputs": [
    {
     "data": {
      "text/plain": [
       "''"
      ]
     },
     "execution_count": 52,
     "metadata": {},
     "output_type": "execute_result"
    }
   ],
   "source": [
    "f.read()"
   ]
  },
  {
   "cell_type": "code",
   "execution_count": 65,
   "id": "d32aeed2",
   "metadata": {},
   "outputs": [
    {
     "data": {
      "text/plain": [
       "0"
      ]
     },
     "execution_count": 65,
     "metadata": {},
     "output_type": "execute_result"
    }
   ],
   "source": [
    "f.seek(0)"
   ]
  },
  {
   "cell_type": "code",
   "execution_count": 54,
   "id": "266aed3f",
   "metadata": {},
   "outputs": [
    {
     "data": {
      "text/plain": [
       "'my'"
      ]
     },
     "execution_count": 54,
     "metadata": {},
     "output_type": "execute_result"
    }
   ],
   "source": [
    "f.read(2)"
   ]
  },
  {
   "cell_type": "code",
   "execution_count": 55,
   "id": "3613b645",
   "metadata": {},
   "outputs": [
    {
     "name": "stdout",
     "output_type": "stream",
     "text": [
      " first file\n",
      "This file\n",
      "\n",
      "contains three lines\n",
      "\n"
     ]
    }
   ],
   "source": [
    "print(f.read())"
   ]
  },
  {
   "cell_type": "code",
   "execution_count": 59,
   "id": "6fff155c",
   "metadata": {},
   "outputs": [
    {
     "name": "stdout",
     "output_type": "stream",
     "text": [
      "my first file\n",
      "This file\n",
      "\n",
      "contains three lines\n"
     ]
    }
   ],
   "source": [
    "for line in f:\n",
    "    print(line, end = '')"
   ]
  },
  {
   "cell_type": "code",
   "execution_count": 62,
   "id": "7950ccf1",
   "metadata": {},
   "outputs": [
    {
     "data": {
      "text/plain": [
       "'my first file\\n'"
      ]
     },
     "execution_count": 62,
     "metadata": {},
     "output_type": "execute_result"
    }
   ],
   "source": [
    "f.readline()"
   ]
  },
  {
   "cell_type": "code",
   "execution_count": 63,
   "id": "d25f9c39",
   "metadata": {},
   "outputs": [
    {
     "data": {
      "text/plain": [
       "['This file\\n', '\\n', 'contains three lines\\n']"
      ]
     },
     "execution_count": 63,
     "metadata": {},
     "output_type": "execute_result"
    }
   ],
   "source": [
    "f.readlines()"
   ]
  },
  {
   "cell_type": "code",
   "execution_count": 64,
   "id": "e5e39b7d",
   "metadata": {},
   "outputs": [
    {
     "data": {
      "text/plain": [
       "4"
      ]
     },
     "execution_count": 64,
     "metadata": {},
     "output_type": "execute_result"
    }
   ],
   "source": [
    "f.fileno()"
   ]
  },
  {
   "cell_type": "code",
   "execution_count": 69,
   "id": "652d6653",
   "metadata": {},
   "outputs": [],
   "source": [
    "import os"
   ]
  },
  {
   "cell_type": "code",
   "execution_count": 71,
   "id": "4758b0f7",
   "metadata": {},
   "outputs": [
    {
     "data": {
      "text/plain": [
       "'C:\\\\Users\\\\hp'"
      ]
     },
     "execution_count": 71,
     "metadata": {},
     "output_type": "execute_result"
    }
   ],
   "source": [
    "os.getcwd()"
   ]
  },
  {
   "cell_type": "code",
   "execution_count": 72,
   "id": "61c37932",
   "metadata": {},
   "outputs": [],
   "source": [
    "os.chdir(\"d:\")"
   ]
  },
  {
   "cell_type": "code",
   "execution_count": 73,
   "id": "91b2e079",
   "metadata": {},
   "outputs": [
    {
     "data": {
      "text/plain": [
       "'D:\\\\'"
      ]
     },
     "execution_count": 73,
     "metadata": {},
     "output_type": "execute_result"
    }
   ],
   "source": [
    "os.getcwd()"
   ]
  },
  {
   "cell_type": "code",
   "execution_count": 74,
   "id": "62e1f3d6",
   "metadata": {},
   "outputs": [
    {
     "data": {
      "text/plain": [
       "b'D:\\\\'"
      ]
     },
     "execution_count": 74,
     "metadata": {},
     "output_type": "execute_result"
    }
   ],
   "source": [
    "os.getcwdb()"
   ]
  },
  {
   "cell_type": "code",
   "execution_count": 75,
   "id": "ddedf880",
   "metadata": {},
   "outputs": [
    {
     "data": {
      "text/plain": [
       "['$RECYCLE.BIN',\n",
       " 'Backup_D drive_ 1-11-2021',\n",
       " 'iphone 3-11-2021',\n",
       " 'System Volume Information']"
      ]
     },
     "execution_count": 75,
     "metadata": {},
     "output_type": "execute_result"
    }
   ],
   "source": [
    "os.listdir()"
   ]
  },
  {
   "cell_type": "markdown",
   "id": "58e64da8",
   "metadata": {},
   "source": [
    "# GUI"
   ]
  },
  {
   "cell_type": "code",
   "execution_count": 76,
   "id": "a67c453c",
   "metadata": {},
   "outputs": [],
   "source": [
    "from tkinter import *\n",
    "\n",
    "root = Tk()\n",
    "root.title(\"First GUI Program\")\n",
    "label = Label(root, text =\"Hello World !\").pack()\n",
    "root.mainloop()"
   ]
  },
  {
   "cell_type": "code",
   "execution_count": 78,
   "id": "b42f8c76",
   "metadata": {},
   "outputs": [],
   "source": [
    "from tkinter import * \n",
    "\n",
    "master = Tk()\n",
    "master.geometry(\"200x200\")\n",
    "b1 = Button(master, text = \"Click me !\")\n",
    "b1.place(relx = 1, x =-2, y = 2, anchor = NE)\n",
    "l = Label(master, text = \"I'm a Label\")\n",
    "l.place(anchor = NW)\n",
    "b2 = Button(master, text = \"GFG\")\n",
    "b2.place(relx = 0.5, rely = 0.5, anchor = CENTER)\n",
    "mainloop()"
   ]
  },
  {
   "cell_type": "code",
   "execution_count": 79,
   "id": "fa0b85c3",
   "metadata": {},
   "outputs": [],
   "source": [
    "from tkinter import * \n",
    "\n",
    "master = Tk()\n",
    "pane = Frame(master)\n",
    "pane.pack(fill = BOTH, expand = True)\n",
    "b1 = Button(pane, text = \"Click me !\")\n",
    "b1.pack(fill = BOTH, expand = True)\n",
    "b2 = Button(pane, text = \"Click me too\")\n",
    "b2.pack(fill = BOTH, expand = True)\n",
    "mainloop()"
   ]
  },
  {
   "cell_type": "code",
   "execution_count": 88,
   "id": "a00250ac",
   "metadata": {},
   "outputs": [],
   "source": [
    "from tkinter import *\n",
    "from tkinter.ttk import *\n",
    "top = Tk()\n",
    "top.geometry(\"400x100\")\n",
    "b = Button(top,text = \"Simple\")\n",
    "b.pack()\n",
    "top.mainloop()"
   ]
  },
  {
   "cell_type": "code",
   "execution_count": 95,
   "id": "d622fc67",
   "metadata": {},
   "outputs": [],
   "source": [
    "#OR\n",
    "from tkinter import *\n",
    "#from tkinter.ttk import *\n",
    "top = Tk()\n",
    "top.geometry(\"400x400\")\n",
    "b1 = Button(top,text = \"Red\",activeforeground = \"red\",activebackground = \"pink\",pady=20)\n",
    "b2 = Button(top, text = \"Blue\",activeforeground = \"blue\",activebackground = \"pink\",pady=10)\n",
    "b3 = Button(top, text = \"Green\",activeforeground = \"green\",activebackground = \"pink\",pady = 10)\n",
    "b4 = Button(top, text = \"Yellow\",activeforeground = \"yellow\",activebackground = \"pink\",pady = 10)\n",
    "b1.pack(side = LEFT)\n",
    "b2.pack(side = RIGHT)\n",
    "b3.pack(side = TOP)\n",
    "b4.pack(side = BOTTOM)\n",
    "top.mainloop()"
   ]
  },
  {
   "cell_type": "code",
   "execution_count": 99,
   "id": "43239d8a",
   "metadata": {},
   "outputs": [],
   "source": [
    "#Event Handling\n",
    "import tkinter\n",
    "window = tkinter.Tk()\n",
    "window.title(\"GUI\")\n",
    "def showresult():\n",
    "    tkinter.Label(window, text = \"GUI with Tkinter!\").pack()\n",
    "tkinter.Button(window, text = \"Click Me!\", command = showresult).pack()\n",
    "window.mainloop()"
   ]
  },
  {
   "cell_type": "code",
   "execution_count": 105,
   "id": "75468bad",
   "metadata": {},
   "outputs": [],
   "source": [
    "import tkinter\n",
    "window = tkinter.Tk()\n",
    "window.title(\"GUI\")\n",
    "def left_click(event):\n",
    "    tkinter.Label(window, text = \"Left Click!\").pack()\n",
    "def middle_click(event):\n",
    "    tkinter.Label(window, text = \"Middle Click!\").pack()\n",
    "def right_click(event):\n",
    "    tkinter.Label(window, text = \"Right Click!\").pack()\n",
    "window.bind(\"<Button-1>\", left_click)\n",
    "window.bind(\"<Button-2>\", middle_click)\n",
    "window.bind(\"<Button-3>\", right_click)\n",
    "window.mainloop()"
   ]
  },
  {
   "cell_type": "code",
   "execution_count": 2,
   "id": "09812033",
   "metadata": {
    "scrolled": true
   },
   "outputs": [],
   "source": [
    "import tkinter\n",
    "import tkinter.messagebox\n",
    "window = tkinter.Tk()\n",
    "window.title(\"GUI\")\n",
    "tkinter.messagebox.showinfo(\"Alert Message\", \"This is just a alert message!\")\n",
    "response = tkinter.messagebox.askquestion(\"Tricky Question\", \"Do you love Deep Learning?\")\n",
    "\n",
    "if response == 'yes':\n",
    "    tkinter.Label(window, text = \"Yes, of course I love Deep Learning!\").pack()\n",
    "else:\n",
    "    tkinter.Label(window, text = \"No, I don't love Deep Learning!\").pack()\n",
    "window.mainloop()"
   ]
  },
  {
   "cell_type": "code",
   "execution_count": 29,
   "id": "b8b3e9cb",
   "metadata": {},
   "outputs": [],
   "source": [
    "import os"
   ]
  },
  {
   "cell_type": "code",
   "execution_count": 30,
   "id": "a757b84a",
   "metadata": {},
   "outputs": [
    {
     "data": {
      "text/plain": [
       "'C:\\\\Users\\\\hp'"
      ]
     },
     "execution_count": 30,
     "metadata": {},
     "output_type": "execute_result"
    }
   ],
   "source": [
    "os.getcwd()"
   ]
  },
  {
   "cell_type": "code",
   "execution_count": null,
   "id": "fd932eb9",
   "metadata": {},
   "outputs": [],
   "source": []
  }
 ],
 "metadata": {
  "kernelspec": {
   "display_name": "Python 3 (ipykernel)",
   "language": "python",
   "name": "python3"
  },
  "language_info": {
   "codemirror_mode": {
    "name": "ipython",
    "version": 3
   },
   "file_extension": ".py",
   "mimetype": "text/x-python",
   "name": "python",
   "nbconvert_exporter": "python",
   "pygments_lexer": "ipython3",
   "version": "3.9.7"
  }
 },
 "nbformat": 4,
 "nbformat_minor": 5
}
