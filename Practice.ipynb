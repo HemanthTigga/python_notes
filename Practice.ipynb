{
 "cells": [
  {
   "cell_type": "code",
   "execution_count": 1,
   "id": "6aecdc97",
   "metadata": {},
   "outputs": [
    {
     "name": "stdout",
     "output_type": "stream",
     "text": [
      "M ?\n",
      "y ?\n",
      "b ?\n",
      "l ?\n",
      "o ?\n",
      "g ?\n"
     ]
    }
   ],
   "source": [
    "for i in \"Myblog\":\n",
    "    print(i,'?')"
   ]
  },
  {
   "cell_type": "code",
   "execution_count": 2,
   "id": "351d8277",
   "metadata": {},
   "outputs": [
    {
     "name": "stdout",
     "output_type": "stream",
     "text": [
      "0\n",
      "1\n",
      "2\n",
      "3\n",
      "4\n"
     ]
    }
   ],
   "source": [
    "for i in range(5):\n",
    "    print(i)"
   ]
  },
  {
   "cell_type": "code",
   "execution_count": 3,
   "id": "2e9310e2",
   "metadata": {},
   "outputs": [
    {
     "name": "stdout",
     "output_type": "stream",
     "text": [
      "10\n",
      "11\n",
      "12\n",
      "13\n",
      "14\n"
     ]
    }
   ],
   "source": [
    "for i in range(10,15):\n",
    "    print(i)"
   ]
  },
  {
   "cell_type": "code",
   "execution_count": 6,
   "id": "9862c835",
   "metadata": {},
   "outputs": [
    {
     "name": "stdout",
     "output_type": "stream",
     "text": [
      "1 2 3 4 5 6 7 8 9 10 "
     ]
    }
   ],
   "source": [
    "for i in range(1,11):\n",
    "    print(i,end=\" \")"
   ]
  },
  {
   "cell_type": "code",
   "execution_count": 13,
   "id": "3419cb60",
   "metadata": {},
   "outputs": [
    {
     "name": "stdout",
     "output_type": "stream",
     "text": [
      "20 18 16 14 12 10 8 6 4 2 "
     ]
    }
   ],
   "source": [
    "for i in range(20,1,-2):\n",
    "    print(i,end=\" \")"
   ]
  },
  {
   "cell_type": "code",
   "execution_count": 18,
   "id": "30fda7a3",
   "metadata": {},
   "outputs": [
    {
     "name": "stdout",
     "output_type": "stream",
     "text": [
      "4\n",
      "4 8 12 16 20 24 28 32 36 40 "
     ]
    }
   ],
   "source": [
    "n=int(input())\n",
    "t=n\n",
    "i=2\n",
    "for i in range(n,(n*10)+1,n):\n",
    "    print(i,end=\" \")"
   ]
  },
  {
   "cell_type": "code",
   "execution_count": 25,
   "id": "8590d3b1",
   "metadata": {},
   "outputs": [
    {
     "name": "stdout",
     "output_type": "stream",
     "text": [
      "45\n",
      "sum= 9\n"
     ]
    }
   ],
   "source": [
    "p=0\n",
    "N=input()\n",
    "for i in N:\n",
    "    p=p+int(i)\n",
    "print(\"sum=\",p)"
   ]
  },
  {
   "cell_type": "code",
   "execution_count": 24,
   "id": "25f42fe9",
   "metadata": {},
   "outputs": [
    {
     "name": "stdout",
     "output_type": "stream",
     "text": [
      "5\n",
      "factorial of 5=120\n"
     ]
    }
   ],
   "source": [
    "n=int(input())\n",
    "p=1\n",
    "for i in range(1,n+1,1):\n",
    "    p=p*i\n",
    "print(f\"factorial of {n}={p}\")"
   ]
  },
  {
   "cell_type": "code",
   "execution_count": 37,
   "id": "3f4a472a",
   "metadata": {},
   "outputs": [
    {
     "name": "stdout",
     "output_type": "stream",
     "text": [
      "2\n",
      "prime number\n"
     ]
    }
   ],
   "source": [
    "N=int(input())\n",
    "p=0\n",
    "for i in range(1,N,1):\n",
    "    if(N%i==0):\n",
    "        p=p+1\n",
    "if p==1:\n",
    "    print(\"prime number\")\n",
    "else:\n",
    "    print(\"not a prime number\")"
   ]
  },
  {
   "cell_type": "code",
   "execution_count": 42,
   "id": "586aeec6",
   "metadata": {},
   "outputs": [
    {
     "name": "stdout",
     "output_type": "stream",
     "text": [
      "1\n",
      "10\n",
      "5\n"
     ]
    }
   ],
   "source": [
    "for i in (1,10):\n",
    "    print(i)"
   ]
  },
  {
   "cell_type": "code",
   "execution_count": 41,
   "id": "16e2e74b",
   "metadata": {},
   "outputs": [
    {
     "name": "stdout",
     "output_type": "stream",
     "text": [
      "1\n",
      "2\n",
      "3\n",
      "4\n",
      "5\n",
      "6\n",
      "7\n",
      "8\n",
      "9\n"
     ]
    }
   ],
   "source": [
    "for i in range(1,10):\n",
    "    print(i)"
   ]
  },
  {
   "cell_type": "code",
   "execution_count": 44,
   "id": "6e338ded",
   "metadata": {},
   "outputs": [
    {
     "name": "stdout",
     "output_type": "stream",
     "text": [
      "2\n",
      "3\n",
      "4\n",
      "5\n",
      "6\n"
     ]
    }
   ],
   "source": [
    "for i in range(2,7):\n",
    "    print(i)"
   ]
  },
  {
   "cell_type": "code",
   "execution_count": 45,
   "id": "12357a0e",
   "metadata": {},
   "outputs": [
    {
     "name": "stdout",
     "output_type": "stream",
     "text": [
      "c\n",
      "s\n",
      "i\n",
      "p\n",
      "l\n",
      "e\n",
      "a\n",
      "r\n",
      "n\n",
      "i\n",
      "n\n",
      "g\n",
      "h\n",
      "u\n",
      "b\n"
     ]
    }
   ],
   "source": [
    "for i in \"csiplearninghub\":\n",
    "    print(i)"
   ]
  },
  {
   "cell_type": "code",
   "execution_count": 48,
   "id": "3bef5ff8",
   "metadata": {},
   "outputs": [
    {
     "name": "stdout",
     "output_type": "stream",
     "text": [
      "p?$y?$t?$h?$o?$n?$"
     ]
    }
   ],
   "source": [
    "for i in \"python\":\n",
    "    print(i,end='?$')"
   ]
  },
  {
   "cell_type": "code",
   "execution_count": 51,
   "id": "b06ecf8e",
   "metadata": {},
   "outputs": [
    {
     "name": "stdout",
     "output_type": "stream",
     "text": [
      "3\n",
      "4\n",
      "7\n"
     ]
    }
   ],
   "source": [
    "for i in (3,4,7):\n",
    "    print(i)"
   ]
  },
  {
   "cell_type": "code",
   "execution_count": 52,
   "id": "a62a9a20",
   "metadata": {},
   "outputs": [
    {
     "name": "stdout",
     "output_type": "stream",
     "text": [
      "2\n",
      "4\n",
      "6\n",
      "8\n"
     ]
    }
   ],
   "source": [
    "for i in range(2,10,2):\n",
    "    print(i)"
   ]
  },
  {
   "cell_type": "code",
   "execution_count": 53,
   "id": "9960867b",
   "metadata": {},
   "outputs": [
    {
     "name": "stdout",
     "output_type": "stream",
     "text": [
      "25\n",
      "64\n",
      "121\n",
      "196\n"
     ]
    }
   ],
   "source": [
    "x=5\n",
    "while(x<15):\n",
    "    print(x**2)\n",
    "    x+=3"
   ]
  },
  {
   "cell_type": "code",
   "execution_count": 54,
   "id": "6e674d1e",
   "metadata": {},
   "outputs": [
    {
     "name": "stdout",
     "output_type": "stream",
     "text": [
      "12\n",
      "13\n"
     ]
    }
   ],
   "source": [
    "a=7\n",
    "b=5\n",
    "while a<9:\n",
    "    print(a+b)\n",
    "    a+=1"
   ]
  },
  {
   "cell_type": "code",
   "execution_count": 55,
   "id": "ad08abe0",
   "metadata": {},
   "outputs": [
    {
     "name": "stdout",
     "output_type": "stream",
     "text": [
      "H\n",
      "H\n",
      "H\n",
      "H\n"
     ]
    }
   ],
   "source": [
    "b=5\n",
    "while b<9:\n",
    "    print(\"H\")\n",
    "    b+=1"
   ]
  },
  {
   "cell_type": "code",
   "execution_count": 60,
   "id": "1c697e71",
   "metadata": {},
   "outputs": [
    {
     "name": "stdout",
     "output_type": "stream",
     "text": [
      "Hello!\n",
      "Hello!\n",
      "Hello!\n"
     ]
    }
   ],
   "source": [
    "b=15\n",
    "while b>9:\n",
    "    print(\"Hello!\")\n",
    "    b=b-2"
   ]
  },
  {
   "cell_type": "code",
   "execution_count": 61,
   "id": "93b5b4cb",
   "metadata": {},
   "outputs": [
    {
     "name": "stdout",
     "output_type": "stream",
     "text": [
      "a\n",
      "a\n",
      "a\n"
     ]
    }
   ],
   "source": [
    "x=\"123\"\n",
    "for i in x:\n",
    "    print(\"a\")"
   ]
  },
  {
   "cell_type": "code",
   "execution_count": 62,
   "id": "60e2ed08",
   "metadata": {},
   "outputs": [],
   "source": [
    "i=9\n",
    "while True:\n",
    "    if i%3==0:\n",
    "        break\n",
    "    print(\"A\")"
   ]
  },
  {
   "cell_type": "markdown",
   "id": "c397b288",
   "metadata": {},
   "source": [
    "No output"
   ]
  },
  {
   "cell_type": "code",
   "execution_count": 63,
   "id": "0d945cde",
   "metadata": {},
   "outputs": [
    {
     "name": "stdout",
     "output_type": "stream",
     "text": [
      "a\n",
      "a\n",
      "a\n",
      "a\n",
      "a\n",
      "a\n"
     ]
    }
   ],
   "source": [
    "a=5\n",
    "while a<=10:\n",
    "    print(\"a\")\n",
    "    a+=1"
   ]
  },
  {
   "cell_type": "code",
   "execution_count": 64,
   "id": "3ba44c65",
   "metadata": {},
   "outputs": [
    {
     "name": "stdout",
     "output_type": "stream",
     "text": [
      "0\n",
      "1\n",
      "2\n",
      "7\n"
     ]
    }
   ],
   "source": [
    "i=0\n",
    "while i<3:\n",
    "    print(i)\n",
    "    i=i+1\n",
    "else:\n",
    "    print(7)"
   ]
  },
  {
   "cell_type": "code",
   "execution_count": 65,
   "id": "2fa03df9",
   "metadata": {},
   "outputs": [
    {
     "name": "stdout",
     "output_type": "stream",
     "text": [
      "0\n",
      "0\n",
      "1\n",
      "0\n",
      "2\n",
      "0\n"
     ]
    }
   ],
   "source": [
    "i=0\n",
    "while i<3:\n",
    "    print(i)\n",
    "    i=i+1\n",
    "    print(0)"
   ]
  },
  {
   "cell_type": "code",
   "execution_count": 71,
   "id": "60ca54a9",
   "metadata": {},
   "outputs": [
    {
     "name": "stdout",
     "output_type": "stream",
     "text": [
      "4\n",
      "4\n",
      "5\n",
      "5\n",
      "6\n",
      "6\n"
     ]
    }
   ],
   "source": [
    "i=3\n",
    "for x in range(i):\n",
    "    i=i+1\n",
    "    print(i)\n",
    "    print(i)"
   ]
  },
  {
   "cell_type": "code",
   "execution_count": 74,
   "id": "6850ae41",
   "metadata": {},
   "outputs": [
    {
     "name": "stdout",
     "output_type": "stream",
     "text": [
      "0\n",
      "1\n",
      "x\n"
     ]
    }
   ],
   "source": [
    "i=2\n",
    "for x in range(i):\n",
    "    #x+=1\n",
    "    print(x)\n",
    "print(\"x\")"
   ]
  },
  {
   "cell_type": "code",
   "execution_count": 75,
   "id": "29d8b66b",
   "metadata": {},
   "outputs": [],
   "source": [
    "i=100\n",
    "while i<57:\n",
    "    print(i)\n",
    "    i+=5"
   ]
  },
  {
   "cell_type": "markdown",
   "id": "5a7c8585",
   "metadata": {},
   "source": [
    " No output"
   ]
  },
  {
   "cell_type": "raw",
   "id": "95aed415",
   "metadata": {},
   "source": [
    "1\n",
    "12\n",
    "123\n",
    "1234    if n=4"
   ]
  },
  {
   "cell_type": "code",
   "execution_count": 80,
   "id": "15529703",
   "metadata": {},
   "outputs": [
    {
     "name": "stdout",
     "output_type": "stream",
     "text": [
      "5\n",
      "1\n",
      "12\n",
      "123\n",
      "1234\n",
      "12345\n"
     ]
    }
   ],
   "source": [
    "n=int(input())\n",
    "for i in range(1,n+1,1):\n",
    "    for j in range(1,i+1,1):\n",
    "        print(j,end='')\n",
    "    print()"
   ]
  },
  {
   "cell_type": "raw",
   "id": "9e51cc7e",
   "metadata": {},
   "source": [
    "****\n",
    "***\n",
    "**\n",
    "*   if n=4"
   ]
  },
  {
   "cell_type": "code",
   "execution_count": 83,
   "id": "d95d4b76",
   "metadata": {},
   "outputs": [
    {
     "name": "stdout",
     "output_type": "stream",
     "text": [
      "5\n",
      "*****\n",
      "****\n",
      "***\n",
      "**\n",
      "*\n"
     ]
    }
   ],
   "source": [
    "n=int(input())\n",
    "for i in range(1,n+1,1):\n",
    "    for j in range(n,0,-1):\n",
    "        print(\"*\",end='')\n",
    "    n-=1\n",
    "    print()"
   ]
  },
  {
   "cell_type": "code",
   "execution_count": 89,
   "id": "2f05459d",
   "metadata": {},
   "outputs": [
    {
     "name": "stdout",
     "output_type": "stream",
     "text": [
      "1\n",
      "2\n",
      "3\n",
      "4\n",
      "5\n",
      "6\n",
      "7\n",
      "8\n",
      "9\n",
      "10\n",
      "average= 5.5\n"
     ]
    }
   ],
   "source": [
    "s=0\n",
    "for i in range(0,10,1):\n",
    "    n=int(input())\n",
    "    s=s+n\n",
    "avg=s/10\n",
    "print(\"average=\",avg)"
   ]
  },
  {
   "cell_type": "code",
   "execution_count": 92,
   "id": "838ea592",
   "metadata": {},
   "outputs": [
    {
     "name": "stdout",
     "output_type": "stream",
     "text": [
      "2\n",
      "9\n",
      "2,3,5,7,"
     ]
    }
   ],
   "source": [
    "a=int(input())\n",
    "b=int(input())\n",
    "p=0\n",
    "for i in range(a,b+1,1):\n",
    "    for j in range(1,i,1):\n",
    "        if i%j==0:\n",
    "            p=p+1\n",
    "    if p==1:\n",
    "        print(i,end=\",\")\n",
    "    p=0"
   ]
  },
  {
   "cell_type": "code",
   "execution_count": 35,
   "id": "c8d4482a",
   "metadata": {},
   "outputs": [
    {
     "name": "stdout",
     "output_type": "stream",
     "text": [
      "number: 3,9,81,65,61,37,58,89,145,42,20,4,,   Not a Happy number\n",
      "number: 4,16,37,58,89,145,42,20,4,,   Not a Happy number\n",
      "number: 5,25,29,85,89,145,42,20,4,,   Not a Happy number\n",
      "number: 6,36,45,41,17,50,25,29,85,89,145,42,20,4,,   Not a Happy number\n",
      "number: 7,49,97,130,10,1,,   Happy number\n",
      "number: 8,64,52,29,85,89,145,42,20,4,,   Not a Happy number\n",
      "number: 9,81,65,61,37,58,89,145,42,20,4,,   Not a Happy number\n",
      "number: 10,1,,   Happy number\n",
      "number: 11,2,4,,   Not a Happy number\n",
      "number: 12,5,25,29,85,89,145,42,20,4,,   Not a Happy number\n",
      "number: 13,10,1,,   Happy number\n",
      "number: 14,17,50,25,29,85,89,145,42,20,4,,   Not a Happy number\n",
      "number: 15,26,40,16,37,58,89,145,42,20,4,,   Not a Happy number\n",
      "number: 16,37,58,89,145,42,20,4,,   Not a Happy number\n",
      "number: 17,50,25,29,85,89,145,42,20,4,,   Not a Happy number\n",
      "number: 18,65,61,37,58,89,145,42,20,4,,   Not a Happy number\n",
      "number: 19,82,68,100,1,,   Happy number\n",
      "number: 20,4,,   Not a Happy number\n",
      "number: 21,5,25,29,85,89,145,42,20,4,,   Not a Happy number\n",
      "number: 22,8,64,52,29,85,89,145,42,20,4,,   Not a Happy number\n",
      "number: 23,13,10,1,,   Happy number\n",
      "number: 24,20,4,,   Not a Happy number\n",
      "number: 25,29,85,89,145,42,20,4,,   Not a Happy number\n",
      "number: 26,40,16,37,58,89,145,42,20,4,,   Not a Happy number\n"
     ]
    }
   ],
   "source": [
    "s=0\n",
    "for i in range(3,27):\n",
    "    s=0\n",
    "    print(f\"number: {i}\",end=\",\")\n",
    "    t=i\n",
    "    while s!=4 and s!=1:\n",
    "        s=0\n",
    "        while i>0:\n",
    "            d=i%10\n",
    "            #print(\"d=\",d)\n",
    "            s=s+(d*d)\n",
    "            i=i//10\n",
    "        print(s,end=\",\")\n",
    "        i=s\n",
    "        if s==1:\n",
    "            print(\"   Happy number\")\n",
    "        elif s==4:\n",
    "            print(\"   Not a Happy number\")"
   ]
  },
  {
   "cell_type": "code",
   "execution_count": null,
   "id": "db26d3e2",
   "metadata": {},
   "outputs": [],
   "source": [
    "2**789456123652"
   ]
  },
  {
   "cell_type": "code",
   "execution_count": 1,
   "id": "ff984d18",
   "metadata": {},
   "outputs": [
    {
     "name": "stdout",
     "output_type": "stream",
     "text": [
      "False\n",
      "True\n"
     ]
    }
   ],
   "source": [
    "if 7 + 4 == 10:\n",
    "    print(\"True\")\n",
    "else:\n",
    "    print(\"False\")\n",
    "print(\"True\")"
   ]
  },
  {
   "cell_type": "code",
   "execution_count": 7,
   "id": "c805d87f",
   "metadata": {},
   "outputs": [
    {
     "name": "stdout",
     "output_type": "stream",
     "text": [
      "0 -1    1\n",
      "0 -2    2\n",
      "0 -3    3\n",
      "0 -4    4\n",
      "0 -5    5\n",
      "0 -6    6\n",
      "0 -7    7\n",
      "0 -8    8\n",
      "0 -9    9\n",
      "1 -1    10\n",
      "1 -2    11\n",
      "1 -3    12\n",
      "1 -4    13\n",
      "1 -5    14\n",
      "1 -6    15\n",
      "1 -7    16\n",
      "1 -8    17\n",
      "1 -9    18\n",
      "2 -1    19\n",
      "2 -2    20\n",
      "2 -3    21\n",
      "2 -4    22\n",
      "2 -5    23\n",
      "2 -6    24\n",
      "2 -7    25\n",
      "2 -8    26\n",
      "2 -9    27\n",
      "3 -1    28\n",
      "3 -2    29\n",
      "3 -3    30\n",
      "3 -4    31\n",
      "3 -5    32\n",
      "3 -6    33\n",
      "3 -7    34\n",
      "3 -8    35\n",
      "3 -9    36\n",
      "4 -1    37\n",
      "4 -2    38\n",
      "4 -3    39\n",
      "4 -4    40\n",
      "4 -5    41\n",
      "4 -6    42\n",
      "4 -7    43\n",
      "4 -8    44\n",
      "4 -9    45\n",
      "5 -1    46\n",
      "5 -2    47\n",
      "5 -3    48\n",
      "5 -4    49\n",
      "5 -5    50\n",
      "5 -6    51\n",
      "5 -7    52\n",
      "5 -8    53\n",
      "5 -9    54\n",
      "6 -1    55\n",
      "6 -2    56\n",
      "6 -3    57\n",
      "6 -4    58\n",
      "6 -5    59\n",
      "6 -6    60\n",
      "6 -7    61\n",
      "6 -8    62\n",
      "6 -9    63\n",
      "7 -1    64\n",
      "7 -2    65\n",
      "7 -3    66\n",
      "7 -4    67\n",
      "7 -5    68\n",
      "7 -6    69\n",
      "7 -7    70\n",
      "7 -8    71\n",
      "7 -9    72\n",
      "8 -1    73\n",
      "8 -2    74\n",
      "8 -3    75\n",
      "8 -4    76\n",
      "8 -5    77\n",
      "8 -6    78\n",
      "8 -7    79\n",
      "8 -8    80\n",
      "8 -9    81\n",
      "9 -1    82\n",
      "9 -2    83\n",
      "9 -3    84\n",
      "9 -4    85\n",
      "9 -5    86\n",
      "9 -6    87\n",
      "9 -7    88\n",
      "9 -8    89\n",
      "9 -9    90\n",
      "90\n"
     ]
    }
   ],
   "source": [
    "a = 0\n",
    "for i in range(10):\n",
    "     for j in range(-1, -10, -1):\n",
    "         a += 1\n",
    "         print(i,j,\"  \",a)\n",
    "print(a)"
   ]
  },
  {
   "cell_type": "code",
   "execution_count": null,
   "id": "16f76350",
   "metadata": {},
   "outputs": [],
   "source": []
  }
 ],
 "metadata": {
  "kernelspec": {
   "display_name": "Python 3 (ipykernel)",
   "language": "python",
   "name": "python3"
  },
  "language_info": {
   "codemirror_mode": {
    "name": "ipython",
    "version": 3
   },
   "file_extension": ".py",
   "mimetype": "text/x-python",
   "name": "python",
   "nbconvert_exporter": "python",
   "pygments_lexer": "ipython3",
   "version": "3.9.7"
  }
 },
 "nbformat": 4,
 "nbformat_minor": 5
}
