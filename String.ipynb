{
 "cells": [
  {
   "cell_type": "code",
   "execution_count": 6,
   "id": "66305969",
   "metadata": {},
   "outputs": [],
   "source": [
    "a=\"bcd\">=\"bcdb\""
   ]
  },
  {
   "cell_type": "code",
   "execution_count": 7,
   "id": "79f51a5b",
   "metadata": {},
   "outputs": [
    {
     "data": {
      "text/plain": [
       "False"
      ]
     },
     "execution_count": 7,
     "metadata": {},
     "output_type": "execute_result"
    }
   ],
   "source": [
    "a"
   ]
  },
  {
   "cell_type": "code",
   "execution_count": 27,
   "id": "2413ca11",
   "metadata": {},
   "outputs": [],
   "source": [
    "a=\"abcd\""
   ]
  },
  {
   "cell_type": "code",
   "execution_count": 28,
   "id": "f511f985",
   "metadata": {},
   "outputs": [
    {
     "data": {
      "text/plain": [
       "['d', 'c', 'b', 'a']"
      ]
     },
     "execution_count": 28,
     "metadata": {},
     "output_type": "execute_result"
    }
   ],
   "source": [
    "b=list(reversed(a))\n",
    "b"
   ]
  },
  {
   "cell_type": "code",
   "execution_count": 23,
   "id": "de01aba4",
   "metadata": {},
   "outputs": [
    {
     "name": "stdout",
     "output_type": "stream",
     "text": [
      "gnh\n",
      "Not Palindrome\n"
     ]
    }
   ],
   "source": [
    "s1=input()\n",
    "if s1[::-1]==s1:\n",
    "    print(\"Palindrome\")\n",
    "else:\n",
    "    print(\"Not Palindrome\")"
   ]
  },
  {
   "cell_type": "code",
   "execution_count": 5,
   "id": "86168906",
   "metadata": {},
   "outputs": [],
   "source": [
    "a = \"abce\""
   ]
  },
  {
   "cell_type": "code",
   "execution_count": 7,
   "id": "b78edf61",
   "metadata": {},
   "outputs": [
    {
     "ename": "AttributeError",
     "evalue": "'str' object has no attribute 'sorted'",
     "output_type": "error",
     "traceback": [
      "\u001b[1;31m---------------------------------------------------------------------------\u001b[0m",
      "\u001b[1;31mAttributeError\u001b[0m                            Traceback (most recent call last)",
      "\u001b[1;32m~\\AppData\\Local\\Temp/ipykernel_15464/148383763.py\u001b[0m in \u001b[0;36m<module>\u001b[1;34m\u001b[0m\n\u001b[1;32m----> 1\u001b[1;33m \u001b[0ma\u001b[0m\u001b[1;33m.\u001b[0m\u001b[0msorted\u001b[0m\u001b[1;33m\u001b[0m\u001b[1;33m\u001b[0m\u001b[0m\n\u001b[0m",
      "\u001b[1;31mAttributeError\u001b[0m: 'str' object has no attribute 'sorted'"
     ]
    }
   ],
   "source": [
    "a.sorted"
   ]
  },
  {
   "cell_type": "code",
   "execution_count": null,
   "id": "738bb39b",
   "metadata": {},
   "outputs": [],
   "source": [
    "\n",
    "from sys import stdin\n",
    "\n",
    "\n",
    "def isPermutation(string1, string2) :\n",
    "\t#Your code goes here\n",
    "    c=0\n",
    "    l1=len(string1)\n",
    "    l2=len(string2)\n",
    "    temp=False\n",
    "    if l1==l2:\n",
    "        for i in string1:\n",
    "            for j in string2:\n",
    "                if i==j:\n",
    "                    c=c+1\n",
    "                    break\n",
    "        if c==l1:\n",
    "            return True\n",
    "        else:\n",
    "             return False\n",
    "    else:\n",
    "        return False\n",
    "\n",
    "\n",
    "\n",
    "#main\n",
    "string1 = stdin.readline().strip();\n",
    "string2 = stdin.readline().strip();\n",
    "\n",
    "ans = isPermutation(string1, string2)\n",
    "\n",
    "if ans :\n",
    "    print('true')\n",
    "else :\n",
    "    print('false')\n",
    "\n",
    "a"
   ]
  },
  {
   "cell_type": "code",
   "execution_count": 31,
   "id": "79b1abff",
   "metadata": {},
   "outputs": [
    {
     "name": "stdout",
     "output_type": "stream",
     "text": [
      "abcd\n"
     ]
    }
   ],
   "source": [
    "    string=\"aabbccdd\"\n",
    "    string=string+\" \"\n",
    "    nstr=\"\"\n",
    "    for i in range(len(string)-1):\n",
    "        if string[i]!=string[i+1]:\n",
    "            nstr=nstr+string[i]\n",
    "    print(nstr)"
   ]
  },
  {
   "cell_type": "code",
   "execution_count": 43,
   "id": "2aa083e7",
   "metadata": {},
   "outputs": [
    {
     "name": "stdout",
     "output_type": "stream",
     "text": [
      "emocleW ot gnidoC sajniN \n"
     ]
    }
   ],
   "source": [
    "string=\"Welcome to Coding Ninjas\"\n",
    "string=string+\" \"\n",
    "nstr=\"\"\n",
    "w=\"\"\n",
    "for i in string:\n",
    "    if i!=' ':\n",
    "        w=w+i\n",
    "    else:\n",
    "        nstr=nstr+w[::-1]+\" \"\n",
    "        w=\"\"\n",
    "print(nstr)"
   ]
  },
  {
   "cell_type": "code",
   "execution_count": 52,
   "id": "701004fc",
   "metadata": {},
   "outputs": [
    {
     "data": {
      "text/plain": [
       "1"
      ]
     },
     "execution_count": 52,
     "metadata": {},
     "output_type": "execute_result"
    }
   ],
   "source": [
    "a=\"abcd\"\n",
    "a."
   ]
  },
  {
   "cell_type": "code",
   "execution_count": 51,
   "id": "72d8d7b3",
   "metadata": {},
   "outputs": [
    {
     "name": "stdout",
     "output_type": "stream",
     "text": [
      "544156958742563987jhgfdsdfghuj85425687';lkjhghjkl\n",
      "5 6\n"
     ]
    }
   ],
   "source": [
    "    max=0\n",
    "    maxch=''\n",
    "    string=input()\n",
    "    for i in string:\n",
    "        c=string.count(i)\n",
    "        if c>max:\n",
    "            maxch=i\n",
    "            max=c\n",
    "    print(maxch,max)"
   ]
  },
  {
   "cell_type": "code",
   "execution_count": 12,
   "id": "259fd487",
   "metadata": {},
   "outputs": [
    {
     "name": "stdout",
     "output_type": "stream",
     "text": [
      "aadd\n",
      "a 2\n"
     ]
    }
   ],
   "source": [
    "def highestOccuringChar(string) :\n",
    "\t#Your code goes here\n",
    "    def count(i):\n",
    "        c=0\n",
    "        for j in string:\n",
    "            if i==j:\n",
    "                c=c+1\n",
    "        return c\n",
    "    maxi=0\n",
    "    maxch=''\n",
    "    for i in string:\n",
    "        c=count(i)\n",
    "        if c>maxi:\n",
    "            maxch=i\n",
    "            maxi=c\n",
    "        c=0\n",
    "    return maxch,maxi\n",
    "\n",
    "\n",
    "string=input()\n",
    "char,max1=highestOccuringChar(string)\n",
    "print(char,max1)"
   ]
  },
  {
   "cell_type": "code",
   "execution_count": 10,
   "id": "e9af6086",
   "metadata": {},
   "outputs": [
    {
     "name": "stdout",
     "output_type": "stream",
     "text": [
      "fcfvgfdcfgf\n"
     ]
    },
    {
     "ename": "NameError",
     "evalue": "name 'count' is not defined",
     "output_type": "error",
     "traceback": [
      "\u001b[1;31m---------------------------------------------------------------------------\u001b[0m",
      "\u001b[1;31mNameError\u001b[0m                                 Traceback (most recent call last)",
      "\u001b[1;32m~\\AppData\\Local\\Temp/ipykernel_17504/4039243892.py\u001b[0m in \u001b[0;36m<module>\u001b[1;34m\u001b[0m\n\u001b[0;32m     12\u001b[0m \u001b[1;33m\u001b[0m\u001b[0m\n\u001b[0;32m     13\u001b[0m \u001b[0mstring\u001b[0m\u001b[1;33m=\u001b[0m\u001b[0minput\u001b[0m\u001b[1;33m(\u001b[0m\u001b[1;33m)\u001b[0m\u001b[1;33m\u001b[0m\u001b[1;33m\u001b[0m\u001b[0m\n\u001b[1;32m---> 14\u001b[1;33m \u001b[0mchar\u001b[0m\u001b[1;33m,\u001b[0m\u001b[0mmax1\u001b[0m\u001b[1;33m=\u001b[0m\u001b[0mhighestOccuringChar\u001b[0m\u001b[1;33m(\u001b[0m\u001b[0mstring\u001b[0m\u001b[1;33m)\u001b[0m\u001b[1;33m\u001b[0m\u001b[1;33m\u001b[0m\u001b[0m\n\u001b[0m\u001b[0;32m     15\u001b[0m \u001b[0mprint\u001b[0m\u001b[1;33m(\u001b[0m\u001b[0mchar\u001b[0m\u001b[1;33m,\u001b[0m\u001b[0mmax1\u001b[0m\u001b[1;33m)\u001b[0m\u001b[1;33m\u001b[0m\u001b[1;33m\u001b[0m\u001b[0m\n",
      "\u001b[1;32m~\\AppData\\Local\\Temp/ipykernel_17504/4039243892.py\u001b[0m in \u001b[0;36mhighestOccuringChar\u001b[1;34m(string)\u001b[0m\n\u001b[0;32m      5\u001b[0m     \u001b[0mmaxch\u001b[0m\u001b[1;33m=\u001b[0m\u001b[1;34m''\u001b[0m\u001b[1;33m\u001b[0m\u001b[1;33m\u001b[0m\u001b[0m\n\u001b[0;32m      6\u001b[0m     \u001b[1;32mfor\u001b[0m \u001b[0mi\u001b[0m \u001b[1;32min\u001b[0m \u001b[0mstring\u001b[0m\u001b[1;33m:\u001b[0m\u001b[1;33m\u001b[0m\u001b[1;33m\u001b[0m\u001b[0m\n\u001b[1;32m----> 7\u001b[1;33m         \u001b[0mc\u001b[0m\u001b[1;33m=\u001b[0m\u001b[0mcount\u001b[0m\u001b[1;33m(\u001b[0m\u001b[0mi\u001b[0m\u001b[1;33m)\u001b[0m\u001b[1;33m\u001b[0m\u001b[1;33m\u001b[0m\u001b[0m\n\u001b[0m\u001b[0;32m      8\u001b[0m         \u001b[1;32mif\u001b[0m \u001b[0mc\u001b[0m\u001b[1;33m>\u001b[0m\u001b[0mmax\u001b[0m\u001b[1;33m:\u001b[0m\u001b[1;33m\u001b[0m\u001b[1;33m\u001b[0m\u001b[0m\n\u001b[0;32m      9\u001b[0m             \u001b[0mmaxch\u001b[0m\u001b[1;33m=\u001b[0m\u001b[0mi\u001b[0m\u001b[1;33m\u001b[0m\u001b[1;33m\u001b[0m\u001b[0m\n",
      "\u001b[1;31mNameError\u001b[0m: name 'count' is not defined"
     ]
    }
   ],
   "source": [
    "def highestOccuringChar(string) :\n",
    "\t#Your code goes here\n",
    "   \n",
    "    max=0\n",
    "    maxch=''\n",
    "    for i in string:\n",
    "        c=string.count(i)\n",
    "        if c>max:\n",
    "            maxch=i\n",
    "            max=c\n",
    "    return maxch,max\n",
    "\n",
    "string=input()\n",
    "char,max1=highestOccuringChar(string)\n",
    "print(char,max1)"
   ]
  },
  {
   "cell_type": "code",
   "execution_count": 9,
   "id": "ee351141",
   "metadata": {},
   "outputs": [
    {
     "data": {
      "text/plain": [
       "5"
      ]
     },
     "execution_count": 9,
     "metadata": {},
     "output_type": "execute_result"
    }
   ],
   "source": [
    "a=\"dfgfdfgfdcfgfdfgfd\"\n",
    "a.find('f',4,8)"
   ]
  },
  {
   "cell_type": "code",
   "execution_count": null,
   "id": "3e543eb3",
   "metadata": {},
   "outputs": [],
   "source": [
    "def highestOccuringChar(string) :\n",
    "\t#Your code goes here\n",
    "   \n",
    "    max=0\n",
    "    maxch=''\n",
    "    c=0\n",
    "    s=[]\n",
    "    for i in string:\n",
    "        if i not in s:\n",
    "            s.append(i)\n",
    "    for i in s:\n",
    "        c=0\n",
    "        for j in range(len(string)):\n",
    "            if i==string[j]:\n",
    "                c=c+1\n",
    "        if c>max:\n",
    "            maxch=i\n",
    "            max=c\n",
    "    return maxch\n"
   ]
  },
  {
   "cell_type": "code",
   "execution_count": null,
   "id": "13970e1b",
   "metadata": {},
   "outputs": [],
   "source": [
    "\n",
    "from sys import stdin\n",
    "\n",
    "\n",
    "def highestOccuringChar(string) :\n",
    "\t#Your code goes here\n",
    "   \n",
    "    max=0\n",
    "    maxch=\"\"\n",
    "    c=0\n",
    "    for i in string:\n",
    "        c=string.count(i)\n",
    "        if c>max:\n",
    "            maxch=i\n",
    "            max=c\n",
    "    print(march)\n",
    "\n",
    "\n",
    "\n",
    "\n",
    "\n",
    "\n",
    "\n",
    "\n",
    "\n",
    "\n",
    "\n",
    "\n",
    "\n",
    "\n",
    "\n",
    "\n",
    "\n",
    "\n",
    "\n",
    "\n",
    "\n",
    "\n",
    "\n",
    "\n",
    "\n",
    "\n",
    "\n",
    "\n",
    "\n",
    "\n",
    "\t\n",
    "\n",
    "\n",
    "\n",
    "#main\n",
    "string = stdin.readline().strip();\n",
    "ans = highestOccuringChar(string)\n",
    "\n",
    "print(ans)"
   ]
  },
  {
   "cell_type": "code",
   "execution_count": 21,
   "id": "1de75252",
   "metadata": {},
   "outputs": [
    {
     "name": "stdout",
     "output_type": "stream",
     "text": [
      "aaabbcc\n",
      "a3b2c2\n"
     ]
    }
   ],
   "source": [
    "def getCompressedString(string) :\n",
    "\t# Write your code here.\n",
    "    string=string+\" \"\n",
    "    nstr=\"\"\n",
    "    c=0\n",
    "    for i in range(len(string)-1):\n",
    "        if string[i]==string[i+1]:\n",
    "            c=c+1\n",
    "        else:\n",
    "            nstr=nstr+string[i]+str(c+1)\n",
    "            c=0\n",
    "    return nstr\n",
    "\n",
    "string=input()\n",
    "newStr=getCompressedString(string)\n",
    "print(newStr)"
   ]
  },
  {
   "cell_type": "code",
   "execution_count": 27,
   "id": "acfdc059",
   "metadata": {},
   "outputs": [
    {
     "name": "stdout",
     "output_type": "stream",
     "text": [
      "aaabbcddeeeee\n",
      "a3b2cd2e5\n"
     ]
    }
   ],
   "source": [
    "def getCompressedString(string) :\n",
    "\t# Write your code here.\n",
    "    string=string+\" \"\n",
    "    nstr=\"\"\n",
    "    c=0\n",
    "    for i in range(len(string)-1):\n",
    "        if string[i]==string[i+1]:\n",
    "            c=c+1\n",
    "        else:\n",
    "            if c!=0:\n",
    "                nstr=nstr+string[i]+str(c+1)\n",
    "            else:\n",
    "                nstr=nstr+string[i]\n",
    "            c=0\n",
    "    return nstr\n",
    "\n",
    "# Main.\n",
    "string = input()\n",
    "ans = getCompressedString(string)\n",
    "print(ans)"
   ]
  },
  {
   "cell_type": "code",
   "execution_count": 28,
   "id": "c9825424",
   "metadata": {},
   "outputs": [
    {
     "data": {
      "text/plain": [
       "3"
      ]
     },
     "execution_count": 28,
     "metadata": {},
     "output_type": "execute_result"
    }
   ],
   "source": [
    "a=[1,2,3]\n",
    "max(a)"
   ]
  },
  {
   "cell_type": "code",
   "execution_count": 53,
   "id": "8611373e",
   "metadata": {},
   "outputs": [
    {
     "name": "stdout",
     "output_type": "stream",
     "text": [
      "fgtgfvgf\n",
      "f\n"
     ]
    }
   ],
   "source": [
    "s=input()\n",
    "a=[int(s.count(i)) for i in s]\n",
    "print(s[a.index(max(a))])"
   ]
  },
  {
   "cell_type": "code",
   "execution_count": null,
   "id": "9f813158",
   "metadata": {},
   "outputs": [],
   "source": []
  }
 ],
 "metadata": {
  "kernelspec": {
   "display_name": "Python 3 (ipykernel)",
   "language": "python",
   "name": "python3"
  },
  "language_info": {
   "codemirror_mode": {
    "name": "ipython",
    "version": 3
   },
   "file_extension": ".py",
   "mimetype": "text/x-python",
   "name": "python",
   "nbconvert_exporter": "python",
   "pygments_lexer": "ipython3",
   "version": "3.9.7"
  }
 },
 "nbformat": 4,
 "nbformat_minor": 5
}
